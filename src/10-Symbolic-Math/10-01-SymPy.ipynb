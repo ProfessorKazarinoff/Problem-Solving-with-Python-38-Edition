{
 "cells": [
  {
   "cell_type": "markdown",
   "metadata": {},
   "source": [
    "## SymPy"
   ]
  },
  {
   "cell_type": "markdown",
   "metadata": {},
   "source": [
    "SymPy [(sympy.org)](https://www.sympy.org/) is a Python library for _symbolic math_.  \n",
    "\n",
    "In symbolic math, symbols are used to represent mathematical expressions. An example of a symbolic math expression is below.\n",
    "\n",
    "$$ x^{2} + y^{2} = z $$\n",
    "\n",
    "The expression contains the symbols $x$, $y$, and $z$.\n",
    "\n",
    "If we define a second symbolic math expression:\n",
    "\n",
    "$$ x = a + b $$\n",
    "\n",
    "then we can substitue in $a + b$ for $x$.\n",
    "\n",
    "The result is the expression:\n",
    "\n",
    "$$ (a + b)^{2} + y^{2} = z $$\n",
    "\n",
    "$$ a^{2} + 2ab + b^{2} + y^{2} = z $$\n",
    "\n",
    "Solving for $y$ in terms of $a$, $b$ and $z$ results in:\n",
    "    \n",
    "$$ y = \\sqrt{z - a^{2} - 2ab - b^{2}} $$\n",
    "\n",
    "In the symbolic math substitution above, symbolic math variables were rearranged, grouped, and inserted. None of the variables were equal to a specific number, like 5 or 0.001, but we can still solve for one variable in terms of the other variables when we use symbolic math."
   ]
  },
  {
   "cell_type": "markdown",
   "metadata": {},
   "source": [
    "If we have numerical values for $z$, $a$ and $b$, we can use Python to calculate the value of $y$. \n",
    "\n",
    "But if we don't have numerical values for $z$, $a$ and $b$, Python and the SymPy package can be used to rearrange terms and solve for one variable in terms of the other.\n",
    "\n",
    "Working with mathematical symbols programmatically instead of working with numerical values is called _symbolic math_."
   ]
  }
 ],
 "metadata": {
  "kernelspec": {
   "display_name": "Python 3",
   "language": "python",
   "name": "python3"
  },
  "language_info": {
   "codemirror_mode": {
    "name": "ipython",
    "version": 3
   },
   "file_extension": ".py",
   "mimetype": "text/x-python",
   "name": "python",
   "nbconvert_exporter": "python",
   "pygments_lexer": "ipython3",
   "version": "3.8.3"
  }
 },
 "nbformat": 4,
 "nbformat_minor": 2
}
