{
 "cells": [
  {
   "cell_type": "markdown",
   "metadata": {},
   "source": [
    "## Solving Two Equations for Two Unknows"
   ]
  },
  {
   "cell_type": "markdown",
   "metadata": {},
   "source": [
    "Solving two equations for two unknowns can be accomplished using SymPy. Consider the following set of two equations with two variables:\n",
    "\n",
    "$$ x + y - 5 = 0 $$\n",
    "\n",
    "$$ x - y + 3 = 0 $$\n",
    "\n",
    "To solve this system of two equations for the two unknowns, $x$ and $y$, first import the SymPy package. From the SymPy package, the functions ```symbols```, ```Eq``` and ```solve``` are needed."
   ]
  },
  {
   "cell_type": "code",
   "execution_count": 1,
   "metadata": {},
   "outputs": [],
   "source": [
    "from sympy import symbols, Eq, solve"
   ]
  },
  {
   "cell_type": "markdown",
   "metadata": {},
   "source": [
    "Next, create two SymPy symbols objects, $x$, and $y$. As shown in a previous section, the string passed as an input argument to the ```symbols()``` function, ```'x y'```, does not contain any commas. The outputs of the ```symbols()``` function are the two symbol objects ```x``` and ```y```. These outputs must be separated by a comma and are not surrounded by quotes."
   ]
  },
  {
   "cell_type": "code",
   "execution_count": 2,
   "metadata": {},
   "outputs": [],
   "source": [
    "x, y = symbols('x y')"
   ]
  },
  {
   "cell_type": "markdown",
   "metadata": {},
   "source": [
    "Now define the two equations as SymPy equation objects. Remember to supply the right-hand side and left-hand side of the equation as two separate arguments to the ```Eq``` class."
   ]
  },
  {
   "cell_type": "code",
   "execution_count": 3,
   "metadata": {},
   "outputs": [],
   "source": [
    "eq1 = Eq(x + y - 5, 0)\n",
    "eq2 = Eq(x - y + 3, 0)"
   ]
  },
  {
   "cell_type": "markdown",
   "metadata": {},
   "source": [
    "We can use SymPy's ```solve()``` function to compute the value of $x$ and $y$. The first argument passed to the ```solve()``` function is a tuple of the two equations ```(eq1, eq2)```. The second argument passed to the ```solve()``` function is a tuple of the variables we want to solve for ```(x, y)```."
   ]
  },
  {
   "cell_type": "code",
   "execution_count": 4,
   "metadata": {},
   "outputs": [
    {
     "data": {
      "text/plain": [
       "{x: 1, y: 4}"
      ]
     },
     "execution_count": 4,
     "metadata": {},
     "output_type": "execute_result"
    }
   ],
   "source": [
    "solve((eq1,eq2), (x, y))"
   ]
  },
  {
   "cell_type": "markdown",
   "metadata": {},
   "source": [
    "The solution is in the form of a Python dictionary. The dictionary keys are the variables and the dictionary values are the numerical solutions. \n",
    "\n",
    "We can access the solution out of the solution dictionary using regular dictionary indexing."
   ]
  },
  {
   "cell_type": "code",
   "execution_count": 5,
   "metadata": {},
   "outputs": [
    {
     "name": "stdout",
     "output_type": "stream",
     "text": [
      "x = 1\n",
      "y = 4\n"
     ]
    }
   ],
   "source": [
    "sol_dict = solve((eq1,eq2), (x, y))\n",
    "print(f'x = {sol_dict[x]}')\n",
    "print(f'y = {sol_dict[y]}')"
   ]
  },
  {
   "cell_type": "markdown",
   "metadata": {},
   "source": [
    "### Solve an engineering statics problem with SymPy"
   ]
  },
  {
   "cell_type": "markdown",
   "metadata": {},
   "source": [
    "Consider the following engineering statics problem. This problem can be solved with symbolic math and SymPy.\n",
    "\n",
    "#### GIVEN:\n",
    "\n",
    "A weight of 22 lbs is hung from a ring. The ring is supported by two cords. The first cord, cord CE, is 30 degrees above the horizontal and to the right. The second cord, cord BD, is 45 degrees to the left and above the horizontal. \n",
    "\n",
    "$w$ = 22 lb\n",
    "\n",
    "$T_{CE}$ @ +30 degrees CCW relative to +x-axis\n",
    "\n",
    "$T_{BD}$ @ +45 degress CW relative to -x-axis\n",
    "\n",
    "#### FIND:\n",
    "\n",
    "The magnitude of $T_{CE}$ and $T_{BD}$ "
   ]
  },
  {
   "cell_type": "markdown",
   "metadata": {},
   "source": [
    "#### SOLUTION:\n",
    "\n",
    "To solve for the magnitude of $T_{CE}$ and $T_{BD}$, we need to solve two equations for two unknowns.\n",
    "\n",
    "To accomplish this with Python, first import NumPy and SymPy.  The SymPy functions ```symbols```, ```Eq```, and ```solve``` are needed. We will also use NumPy's trig functions to solve this problem."
   ]
  },
  {
   "cell_type": "code",
   "execution_count": 6,
   "metadata": {},
   "outputs": [],
   "source": [
    "import numpy as np\n",
    "from sympy import symbols, Eq, solve"
   ]
  },
  {
   "cell_type": "markdown",
   "metadata": {},
   "source": [
    "Next, define the symbolic math variables. Multiple symbolic math variables can be defined at the same time. Remember the argument names (on the right-hand side of the assignment operator ```=```) need to be enclosed in quotes``` '  ' ``` and separated by spaces, no commas. The object names (on the left-hand side of the assignment operator ```=```) are separated with commas, no quotes."
   ]
  },
  {
   "cell_type": "code",
   "execution_count": 7,
   "metadata": {},
   "outputs": [],
   "source": [
    "Tce, Tbd = symbols('Tce Tbd')"
   ]
  },
  {
   "cell_type": "markdown",
   "metadata": {},
   "source": [
    "Two equations based on the sum of the forces need to be defined. \n",
    "\n",
    "Assuming the ring is in static equilibrium:\n",
    "\n",
    "$$ \\Sigma \\vec{F} = 0 $$\n",
    "\n",
    "$$ \\Sigma F_{x} = 0 $$\n",
    "\n",
    "$$ \\Sigma F_{y} = 0 $$\n",
    "\n",
    "The three forces opperating on the ring are defined as:\n",
    "\n",
    "$$ {T_{ce}} = tension \\ in \\ cable \\ CE \\ $$\n",
    "\n",
    "$$ \\vec{T_{ce}} = T_{ce} cos(30)\\hat{i} + T_{ce} sin(30)\\hat{j} $$\n",
    "\n",
    "$$ {T_{bd}} = tension \\ in \\ cable \\ BD $$\n",
    "\n",
    "$$ \\vec{T_{bd}} = - T_{bd} cos(45)\\hat{i} + T_{bd} sin(45)\\hat{j} $$\n",
    "\n",
    "$$ \\vec{w} = 0 \\hat{i} - 22 \\hat{j} $$\n",
    "\n",
    "Taking $\\Sigma F_{x} = 0$ (sum of the $\\hat{i}$ terms):\n",
    "\n",
    "$$ T_{ce} cos(30) - T_{bd} cos(45) + 0 = 0 $$\n",
    "\n",
    "Taking $\\Sigma F_{y} = 0$ (sum of the $\\hat{j}$ terms):\n",
    "\n",
    "$$ T_{ce} sin(30) + T_{bd} sin(45) - 22 = 0 $$"
   ]
  },
  {
   "cell_type": "markdown",
   "metadata": {},
   "source": [
    "The first equation, based on the sum of the forces in the x-direction (the $\\hat{i}$ terms) is:\n",
    "\n",
    "$$ T_{ce} cos(30) - T_{bd} cos(45) + 0 = 0 $$\n",
    "\n",
    "This equation can be represented as a SymPy equation object. Note the right-hand side of the equation is ```0```. SymPy equation objects are instantiated with expressions equal to zero. If the expression was not equal to zero, simply subtract both sides by the term on the right-hand side of the equals sign and use the resulting expression (equal to zero) to create the SymPy equation object.\n",
    "\n",
    "A detail in the code section below is that NumPy's ```np.cos()``` function accepts an angle in radians. Therefore, we need to convert our angles from degrees to radians using NumPy's ```np.radians()``` function."
   ]
  },
  {
   "cell_type": "code",
   "execution_count": 8,
   "metadata": {},
   "outputs": [
    {
     "name": "stdout",
     "output_type": "stream",
     "text": [
      "Eq(-0.707106781186548*Tbd + 0.866025403784439*Tce, 0)\n"
     ]
    }
   ],
   "source": [
    "eq1=Eq(Tce * np.cos(np.radians(30)) - Tbd * np.cos(np.radians(45)), 0)\n",
    "print(eq1)"
   ]
  },
  {
   "cell_type": "markdown",
   "metadata": {},
   "source": [
    "The second equation, based on the sum of the forces in the y-direction is:\n",
    "\n",
    "$$ T_{ce} sin(30) + T_{bd} sin(45) - 22 = 0 $$\n",
    "\n",
    "We can define this equation as a SymPy equation object as well:"
   ]
  },
  {
   "cell_type": "code",
   "execution_count": 9,
   "metadata": {},
   "outputs": [
    {
     "name": "stdout",
     "output_type": "stream",
     "text": [
      "Eq(0.707106781186547*Tbd + 0.5*Tce - 22, 0)\n"
     ]
    }
   ],
   "source": [
    "eq2=Eq(Tce * np.sin(np.radians(30)) + Tbd * np.sin(np.radians(45))-22, 0)\n",
    "print(eq2)"
   ]
  },
  {
   "cell_type": "markdown",
   "metadata": {},
   "source": [
    "Next, solve the two equations ```eq1``` and ```eq2``` for the two unknows $T_{ce}$ and $T_{bd}$ with SymPy's ```solve()``` function. The first argument passed to the ```solve()``` function is a tuple of equations to solve, the second argument passed to the ```solve()``` function is a tuple of the variables to solve for."
   ]
  },
  {
   "cell_type": "code",
   "execution_count": 10,
   "metadata": {},
   "outputs": [
    {
     "data": {
      "text/plain": [
       "{Tce: 16.1051177665153, Tbd: 19.7246603876972}"
      ]
     },
     "execution_count": 10,
     "metadata": {},
     "output_type": "execute_result"
    }
   ],
   "source": [
    "solve((eq1,eq2),(Tce, Tbd))"
   ]
  },
  {
   "cell_type": "markdown",
   "metadata": {},
   "source": [
    "The solution is saved in a Python dictionary. The dictionary keys are the variable names ```Tbd``` and ```Tce``` and the dictionary values are the numerical solutions. \n",
    "\n",
    "The numerical solutions can be pulled out of the dictionary using regular Python dictionary access. Note ```Tce``` and ```Tbd``` are SymPy symbols objects, not strings."
   ]
  },
  {
   "cell_type": "code",
   "execution_count": 11,
   "metadata": {},
   "outputs": [
    {
     "name": "stdout",
     "output_type": "stream",
     "text": [
      "Tce = 16.1051177665153\n",
      "Tce = 19.7246603876972\n"
     ]
    }
   ],
   "source": [
    "sol_dict = solve((eq1,eq2),(Tce, Tbd))\n",
    "print(f'Tce = {sol_dict[Tce]}')\n",
    "print(f'Tce = {sol_dict[Tbd]}')"
   ]
  },
  {
   "cell_type": "markdown",
   "metadata": {},
   "source": [
    "The same problem can be solved again, but with $w$ kept as a variable."
   ]
  },
  {
   "cell_type": "code",
   "execution_count": 12,
   "metadata": {},
   "outputs": [
    {
     "data": {
      "text/plain": [
       "{Tab: 0.732050807568878*w, Tac: 0.896575472168054*w}"
      ]
     },
     "execution_count": 12,
     "metadata": {},
     "output_type": "execute_result"
    }
   ],
   "source": [
    "w, Tce, Tbd = symbols('w, Tab, Tac')\n",
    "\n",
    "eq1=Eq(Tce * np.cos(np.radians(30)) - Tbd * np.cos(np.radians(45)), 0)\n",
    "eq2=Eq(Tce * np.sin(np.radians(30)) + Tbd * np.sin(np.radians(45))-w, 0)\n",
    "\n",
    "solve((eq1,eq2),(Tce,Tbd))"
   ]
  },
  {
   "cell_type": "markdown",
   "metadata": {},
   "source": [
    "The result is a solution is in terms of the variable $w$. "
   ]
  }
 ],
 "metadata": {
  "kernelspec": {
   "display_name": "Python 3",
   "language": "python",
   "name": "python3"
  },
  "language_info": {
   "codemirror_mode": {
    "name": "ipython",
    "version": 3
   },
   "file_extension": ".py",
   "mimetype": "text/x-python",
   "name": "python",
   "nbconvert_exporter": "python",
   "pygments_lexer": "ipython3",
   "version": "3.8.3"
  }
 },
 "nbformat": 4,
 "nbformat_minor": 2
}
