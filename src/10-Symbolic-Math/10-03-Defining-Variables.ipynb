{
 "cells": [
  {
   "cell_type": "markdown",
   "metadata": {},
   "source": [
    "## Defining Variables"
   ]
  },
  {
   "cell_type": "markdown",
   "metadata": {},
   "source": [
    "Before we can construct symbolic math expressions or symbolic math equations with SymPy, first we need to create symbolic math variables, also called symbolic math _symbols_.\n",
    "\n",
    "To define symbolic math variables with SymPy,  first import the ```symbols()``` function from the SymPy module:"
   ]
  },
  {
   "cell_type": "code",
   "execution_count": 1,
   "metadata": {},
   "outputs": [],
   "source": [
    "from sympy import symbols"
   ]
  },
  {
   "cell_type": "markdown",
   "metadata": {},
   "source": [
    "Symbolic math symbols are declared using SymPy's ```symbols()``` function. Pass a string surrounded by quotes to the ```symbols()``` function as an input argument. The output of the ```symbols()``` function is assigned to a SymPy symbols object (not a string, no quotes)."
   ]
  },
  {
   "cell_type": "code",
   "execution_count": 2,
   "metadata": {},
   "outputs": [],
   "source": [
    "x = symbols('x')\n",
    "y = symbols('y')"
   ]
  },
  {
   "cell_type": "markdown",
   "metadata": {},
   "source": [
    "SymPy's ```symbols()``` function can define multiple symbols in the same line of code. Note the input arguments passed to the ```symbols()``` function is a string, entries separated by a space (no comma), and surrounded by quotes. The output of the ```symbols()``` function are SymPy symbol objects separated by commas (no quotation marks)."
   ]
  },
  {
   "cell_type": "code",
   "execution_count": 3,
   "metadata": {},
   "outputs": [],
   "source": [
    "x, y = symbols('x y')"
   ]
  }
 ],
 "metadata": {
  "kernelspec": {
   "display_name": "Python 3",
   "language": "python",
   "name": "python3"
  },
  "language_info": {
   "codemirror_mode": {
    "name": "ipython",
    "version": 3
   },
   "file_extension": ".py",
   "mimetype": "text/x-python",
   "name": "python",
   "nbconvert_exporter": "python",
   "pygments_lexer": "ipython3",
   "version": "3.8.3"
  }
 },
 "nbformat": 4,
 "nbformat_minor": 2
}
