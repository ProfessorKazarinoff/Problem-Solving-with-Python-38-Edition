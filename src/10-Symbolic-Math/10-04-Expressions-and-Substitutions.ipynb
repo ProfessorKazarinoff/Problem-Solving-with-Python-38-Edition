{
 "cells": [
  {
   "cell_type": "markdown",
   "metadata": {},
   "source": [
    "## Expressions and Substitutions"
   ]
  },
  {
   "cell_type": "code",
   "execution_count": 1,
   "metadata": {
    "latex": {
     "environment": "comment"
    }
   },
   "outputs": [
    {
     "name": "stdout",
     "output_type": "stream",
     "text": [
      "\n"
     ]
    }
   ],
   "source": [
    "from sympy import init_session\n",
    "init_session(pretty_print=False, quiet=True)"
   ]
  },
  {
   "cell_type": "markdown",
   "metadata": {},
   "source": [
    "Symbolic math variables can be combined into symbolic math expressions. Once in an expression, symbolic math variables can be exchanged with substitution."
   ]
  },
  {
   "cell_type": "markdown",
   "metadata": {},
   "source": [
    "### Expressions"
   ]
  },
  {
   "cell_type": "markdown",
   "metadata": {},
   "source": [
    "A symbolic math expression is a combination of symbolic math variables with numbers and mathematical operators such as ```+```, ```-```, ```/```, and ```*```. The standard Python rules for calculating numbers apply in SymPy symbolic math expressions.\n",
    "\n",
    "After the symbols ```x``` and ```y``` are created, a symbolic math expression using ```x``` and ```y``` can be defined."
   ]
  },
  {
   "cell_type": "code",
   "execution_count": 2,
   "metadata": {},
   "outputs": [],
   "source": [
    "from sympy import symbols\n",
    "\n",
    "x, y = symbols('x y')\n",
    "expr = 2*x + y"
   ]
  },
  {
   "cell_type": "markdown",
   "metadata": {},
   "source": [
    "Symbolic math variables can be exchanged for other variables or expressions using substitution."
   ]
  },
  {
   "cell_type": "markdown",
   "metadata": {},
   "source": [
    "### Substitution"
   ]
  },
  {
   "cell_type": "markdown",
   "metadata": {},
   "source": [
    "Use SymPy's ```.subs()``` method to insert a numerical value into a symbolic math expression. The first argument of the ```.subs()``` method is the mathematical symbol and the second argument is the numerical value. In the expression below:\n",
    "\n",
    "$$ 2x + y $$\n",
    "\n",
    "If we substitute:\n",
    "\n",
    "$$ x = 2 $$\n",
    "\n",
    "The resulting expression is:\n",
    "\n",
    "$$ 2(2) + y $$\n",
    "\n",
    "$$ 4 + y $$\n",
    "\n",
    "We can code the substitution above using SymPy's ```.subs()``` method as shown below."
   ]
  },
  {
   "cell_type": "code",
   "execution_count": 3,
   "metadata": {},
   "outputs": [
    {
     "data": {
      "text/plain": [
       "y + 4"
      ]
     },
     "execution_count": 3,
     "metadata": {},
     "output_type": "execute_result"
    }
   ],
   "source": [
    "expr.subs(x, 2)"
   ]
  },
  {
   "cell_type": "markdown",
   "metadata": {},
   "source": [
    "The ```.subs()``` method does not replace variables in place, ```.subs()``` only completes a one-time substitution. If ```expr``` is called after the ```.subs()``` method is applied, the original ```expr``` expression is returned."
   ]
  },
  {
   "cell_type": "code",
   "execution_count": 4,
   "metadata": {},
   "outputs": [
    {
     "data": {
      "text/plain": [
       "2*x + y"
      ]
     },
     "execution_count": 4,
     "metadata": {},
     "output_type": "execute_result"
    }
   ],
   "source": [
    "expr"
   ]
  },
  {
   "cell_type": "markdown",
   "metadata": {},
   "source": [
    "To make the substitution permanent, a new expression object needs to be assigned to the output of the ```.subs()``` method."
   ]
  },
  {
   "cell_type": "code",
   "execution_count": 5,
   "metadata": {},
   "outputs": [
    {
     "data": {
      "text/plain": [
       "y + 4"
      ]
     },
     "execution_count": 5,
     "metadata": {},
     "output_type": "execute_result"
    }
   ],
   "source": [
    "expr = 2*x + y\n",
    "expr2 = expr.subs(x, 2)\n",
    "expr2"
   ]
  },
  {
   "cell_type": "markdown",
   "metadata": {},
   "source": [
    "SymPy variables can also be substituted into SymPy expressions. In the code section below, the symbol $z$ is substituted for the symbol $x$ ($z$ replaces $x$)."
   ]
  },
  {
   "cell_type": "code",
   "execution_count": 6,
   "metadata": {},
   "outputs": [
    {
     "data": {
      "text/plain": [
       "y + 2*z"
      ]
     },
     "execution_count": 6,
     "metadata": {},
     "output_type": "execute_result"
    }
   ],
   "source": [
    "x, y, z = symbols('x y z')\n",
    "expr = 2*x + y\n",
    "expr2 = expr.subs(x, z)\n",
    "expr2"
   ]
  },
  {
   "cell_type": "markdown",
   "metadata": {},
   "source": [
    "Expressions can also be substituted into other expressions. \n",
    "\n",
    "Consider the following symbolic math expression:\n",
    "\n",
    "$$ y + 2x^2 + z^{-3} $$\n",
    "\n",
    "We can substitute in the expression:\n",
    "\n",
    "$$ y = 2x $$\n",
    "\n",
    "Which results in:\n",
    "\n",
    "$$ 2x + 2x^2 + z^{-3} $$\n",
    "\n",
    "Let's try this same operation with code."
   ]
  },
  {
   "cell_type": "code",
   "execution_count": 7,
   "metadata": {},
   "outputs": [
    {
     "data": {
      "text/plain": [
       "2*x**2 + 2*x + z**(-3)"
      ]
     },
     "execution_count": 7,
     "metadata": {},
     "output_type": "execute_result"
    }
   ],
   "source": [
    "x, y, z = symbols('x y z')\n",
    "expr = y + 2*x**2 + z**(-3)\n",
    "expr2 = expr.subs(y, 2*x)\n",
    "expr2"
   ]
  },
  {
   "cell_type": "markdown",
   "metadata": {},
   "source": [
    "#### Worked Example\n",
    "\n",
    "A practical example involving symbolic math variables, expressions, and substitutions can include a complex expression and several replacements.\n",
    "\n",
    "$$ n_0e^{-Q_v/RT} $$\n",
    "\n",
    "$$ n_0 = 3.48 \\times 10^{-6} $$\n",
    "\n",
    "$$ Q_v = 12,700 $$\n",
    "\n",
    "$$ R = 8.31 $$\n",
    "\n",
    "$$ T = 1000 + 273 $$\n",
    "\n",
    "We can create four symbolic math variables and combine the variables into an expression with the code below. Note how four symbolic math variables were assigned in one line of code."
   ]
  },
  {
   "cell_type": "code",
   "execution_count": 8,
   "metadata": {},
   "outputs": [],
   "source": [
    "from sympy import symbols, exp\n",
    "n0, Qv, R, T = symbols('n0 Qv R T')\n",
    "expr = n0*exp(-Qv/(R*T))"
   ]
  },
  {
   "cell_type": "markdown",
   "metadata": {},
   "source": [
    "Multiple SymPy ```subs()``` methods can be chained together to substitute multiple variables in one line of code."
   ]
  },
  {
   "cell_type": "code",
   "execution_count": 9,
   "metadata": {},
   "outputs": [
    {
     "data": {
      "text/plain": [
       "1.04759678564474e-6"
      ]
     },
     "execution_count": 9,
     "metadata": {},
     "output_type": "execute_result"
    }
   ],
   "source": [
    "expr.subs(n0, 3.48e-6).subs(Qv,12700).subs(R, 8.31).subs(T, 1000+273)"
   ]
  },
  {
   "cell_type": "markdown",
   "metadata": {},
   "source": [
    "To evaluate an expression as a floating-point number, use SymPy's ```.evalf()``` method."
   ]
  },
  {
   "cell_type": "code",
   "execution_count": 10,
   "metadata": {},
   "outputs": [
    {
     "data": {
      "text/plain": [
       "1.04759678564474e-6"
      ]
     },
     "execution_count": 10,
     "metadata": {},
     "output_type": "execute_result"
    }
   ],
   "source": [
    "expr2 = expr.subs(n0, 3.48e-6).subs(Qv,12700).subs(R, 8.31).subs(T, 1000+273)\n",
    "expr2.evalf()"
   ]
  },
  {
   "cell_type": "markdown",
   "metadata": {},
   "source": [
    "You can control the number of digits the ```.evalf()``` method outputs by passing a number as an argument. Let's represent our final answer as four digits:"
   ]
  },
  {
   "cell_type": "code",
   "execution_count": 11,
   "metadata": {},
   "outputs": [
    {
     "data": {
      "text/plain": [
       "1.048e-6"
      ]
     },
     "execution_count": 11,
     "metadata": {},
     "output_type": "execute_result"
    }
   ],
   "source": [
    "expr2.evalf(4)"
   ]
  },
  {
   "cell_type": "markdown",
   "metadata": {},
   "source": [
    "### Summary"
   ]
  },
  {
   "cell_type": "markdown",
   "metadata": {},
   "source": [
    "The SymPy functions and methods used in this section are summarized in the table below.\n",
    "\n",
    "| SymPy function or method | Description | Example |\n",
    "| --- | --- | --- |\n",
    "| ```symbols()``` | create symbolic math variables | ```x, y = symbols('x y')``` |\n",
    "| ```.subs()``` | substitute a value into a symbolic math expression | ```expr.subs(x,2)``` |\n",
    "| ```.evalf()``` | evaluate a symbolic math expression as a floating point number | ```expr.evalf(4)``` |\n"
   ]
  }
 ],
 "metadata": {
  "celltoolbar": "Edit Metadata",
  "kernelspec": {
   "display_name": "Python 3",
   "language": "python",
   "name": "python3"
  },
  "language_info": {
   "codemirror_mode": {
    "name": "ipython",
    "version": 3
   },
   "file_extension": ".py",
   "mimetype": "text/x-python",
   "name": "python",
   "nbconvert_exporter": "python",
   "pygments_lexer": "ipython3",
   "version": "3.8.3"
  }
 },
 "nbformat": 4,
 "nbformat_minor": 2
}
