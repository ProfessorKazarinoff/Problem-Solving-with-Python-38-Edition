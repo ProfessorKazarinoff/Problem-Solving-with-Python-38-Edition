{
 "cells": [
  {
   "cell_type": "markdown",
   "metadata": {},
   "source": [
    "## Equations"
   ]
  },
  {
   "cell_type": "markdown",
   "metadata": {},
   "source": [
    "You can define equations in Python using SymPy and symbolic math variables. _Equations_ in SymPy are different than _expressions_. An expression does not have equality. An expression is a collection of symbols and operators, but expressions are not equal to anything. Equations have equality. An equation can be thought of as an expression equal to something else.\n",
    "\n",
    "A code section that defines the equation $4x + 2 = 0$ is below. Note two arguments are passed to the ```Eq``` class. The left-hand side of the equation $4x + 2$ is the first argument and the right-hand side of the equation $0$ is the second argument."
   ]
  },
  {
   "cell_type": "code",
   "execution_count": 1,
   "metadata": {},
   "outputs": [],
   "source": [
    "from sympy import symbols, Eq\n",
    "\n",
    "x = symbols('x')\n",
    "\n",
    "eq1 = Eq(4*x + 2, 0)"
   ]
  },
  {
   "cell_type": "markdown",
   "metadata": {},
   "source": [
    "SymPy equations can contain multiple variables. If you want to define the equation $2y - x = 5$, you just have to create the symbolic math variables $y$ and $x$ first."
   ]
  },
  {
   "cell_type": "code",
   "execution_count": 2,
   "metadata": {},
   "outputs": [],
   "source": [
    "x, y = symbols('x y')\n",
    "\n",
    "eq2 = Eq(2*y - x, 5)"
   ]
  },
  {
   "cell_type": "markdown",
   "metadata": {},
   "source": [
    "### Substitutions in Equations\n",
    "\n",
    "Symbols and expressions can be substituted into equations. In the code section below, the variable $z$ is substituted in for the variable $x$ ($z$ replaces $x$)."
   ]
  },
  {
   "cell_type": "code",
   "execution_count": 3,
   "metadata": {},
   "outputs": [
    {
     "data": {
      "text/latex": [
       "$\\displaystyle 2 y - z = 5$"
      ],
      "text/plain": [
       "Eq(2*y - z, 5)"
      ]
     },
     "execution_count": 3,
     "metadata": {},
     "output_type": "execute_result"
    }
   ],
   "source": [
    "x, y, z = symbols('x y z')\n",
    "\n",
    "eq2 = Eq(2*y - x, 5)\n",
    "eq3 = eq2.subs(x,z)\n",
    "eq3"
   ]
  }
 ],
 "metadata": {
  "kernelspec": {
   "display_name": "Python 3",
   "language": "python",
   "name": "python3"
  },
  "language_info": {
   "codemirror_mode": {
    "name": "ipython",
    "version": 3
   },
   "file_extension": ".py",
   "mimetype": "text/x-python",
   "name": "python",
   "nbconvert_exporter": "python",
   "pygments_lexer": "ipython3",
   "version": "3.8.3"
  }
 },
 "nbformat": 4,
 "nbformat_minor": 2
}
