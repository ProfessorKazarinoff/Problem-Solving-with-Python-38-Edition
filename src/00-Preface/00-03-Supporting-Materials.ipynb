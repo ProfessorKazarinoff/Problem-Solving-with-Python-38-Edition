{
 "cells": [
  {
   "cell_type": "markdown",
   "metadata": {},
   "source": [
    "## Supporting Materials"
   ]
  },
  {
   "cell_type": "markdown",
   "metadata": {},
   "source": [
    "Supporting materials for this text can be found on the textbook website:\n",
    "\n",
    " > [problemsolvingwithpython.com](https://problemsolvingwithpython.com)\n",
    "\n",
    "The textbook website contains all of the text in web format. Code examples and Jupyter notebooks for the text can be found in the GitHub repository for the book:\n",
    "\n",
    " > [github.com/ProfessorKazarinoff/Problem-Solving-with-Python-38-Edition](https://github.com/ProfessorKazarinoff/Problem-Solving-with-Python-38-Edition)\n",
    "\n",
    "Live notebooks, where code examples found in the text can be run without installing any software, are available at:\n",
    "\n",
    " > [mybinder.org/v2/gh/ProfessorKazarinoff/Problem-Solving-with-Python-38-Edition/master](https://mybinder.org/v2/gh/ProfessorKazarinoff/Problem-Solving-with-Python-38-Edition/master)\n",
    "\n",
    "If you are an instructor and using this book in a course with students- please send me an email using your school email address. In the email, include the course you are teaching and the term, approximate enrollment, and a link to the course listing on your school website.\n",
    "\n",
    " > peter.kazarinoff@problemsolvingwithpython.com\n",
    "\n",
    "I am happy to reply with a solution key for the end of chapter review problems as well as quiz and exam question banks."
   ]
  }
 ],
 "metadata": {
  "kernelspec": {
   "display_name": "Python 3",
   "language": "python",
   "name": "python3"
  },
  "language_info": {
   "codemirror_mode": {
    "name": "ipython",
    "version": 3
   },
   "file_extension": ".py",
   "mimetype": "text/x-python",
   "name": "python",
   "nbconvert_exporter": "python",
   "pygments_lexer": "ipython3",
   "version": "3.8.3"
  }
 },
 "nbformat": 4,
 "nbformat_minor": 4
}
