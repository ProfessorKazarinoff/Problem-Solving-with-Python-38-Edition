{
 "cells": [
  {
   "cell_type": "markdown",
   "metadata": {},
   "source": [
    "## Installing Anaconda on Windows"
   ]
  },
  {
   "cell_type": "markdown",
   "metadata": {},
   "source": [
    "For problem-solvers, I recommend installing and using the Anaconda distribution of Python."
   ]
  },
  {
   "cell_type": "markdown",
   "metadata": {},
   "source": [
    "This section details the installation of the Anaconda distribution of Python on Windows 10. I think the Anaconda distribution of Python is the best option for problem-solvers who want to use Python. Anaconda is free (although the download is large which can take time) and can be installed on school or work computers where you don't have administrator access or the ability to install new programs. Anaconda comes bundled with about 600 Python packages pre-installed including **NumPy**, **Matplotlib**, and **SymPy**. These three packages are useful for problem-solvers and will be discussed in subsequent chapters."
   ]
  },
  {
   "cell_type": "markdown",
   "metadata": {},
   "source": [
    "#### Steps:\n",
    "\n",
    "1. Visit [Anaconda.com](https://www.anaconda.com/)\n",
    "\n",
    "2. Select Products / Individual Edition\n",
    "\n",
    "3. Scroll down to the **Anaconda Installers** section\n",
    "\n",
    "3. Download the Windows **64-Bit Graphical Installer**\n",
    "\n",
    "4. Open and run the **_.exe_** installer\n",
    "\n",
    "5. Use the Windows Start Menu, open the **Anaconda Prompt** and run some Python code"
   ]
  },
  {
   "cell_type": "markdown",
   "metadata": {},
   "source": [
    "#### 1. Visit Anaconda.com\n",
    "\n",
    "Go to the following link: [Anaconda.com](https://www.anaconda.com)\n",
    "\n",
    "#### 2. Select Products / Individual Edition\n",
    "    \n",
    "On the Anaconda.com home page, select **Products** from the upper menu, then select **Individual Edition**.\n",
    "\n",
    "![Anaconda.com home page](images/anaconda_home_page_individual_edition.png)\n",
    "\n",
    "#### 3. Scroll down to the Anaconda Installers section\n",
    "\n",
    "Scroll down the Individual Edition page to the **Anaconda Installers** section.\n",
    "\n",
    "![Anaconda.com Individual Edition page](images/anaconda_individual_edition_main_page.png)\n",
    "\n",
    "#### 4. Download the Windows 64-Bit Graphical Installer\n",
    "\n",
    "In the Windows section of the page, select the **64-Bit Graphical Installer**. Click the link to download the installer.\n",
    "\n",
    "![Anaconda.com Anaconda Installers section of the Individual Edition page](images/anaconda_individual_edition_anaconda_installers.png)\n",
    "\n",
    "#### 5. Open and run the .exe installer\n",
    "\n",
    "Open the **_.exe_** installer file you just downloaded to run it. You will need to accept a License Agreement. I recommend that you keep all the default options during the installation.\n",
    "\n",
    "![Open the Anaconda3 installer](images/open_anaconda_installer.png)\n",
    "\n",
    "![the Anaconda3 Installer](images/anaconda_installer_for_windows.png)"
   ]
  },
  {
   "cell_type": "markdown",
   "metadata": {},
   "source": [
    "#### 6. Open the Anaconda Prompt from the Windows start menu\n",
    "\n",
    "After the installation of Anaconda is complete, you can go to the Windows start menu and select the Anaconda Prompt.\n",
    "\n",
    "![The Anaconda Prompt in the Windows Start Menu](images/anaconda_prompt_in_windows_start_menu.png)\n",
    "\n",
    "This opens the **Anaconda Prompt**. **Anaconda** is the Python distribution and the **Anaconda Prompt** is a command line shell (a program where you _type_ in commands instead of using a mouse). The black screen and text that makes up the **Anaconda Prompt** doesn't look like much, but it is really useful for problem-solvers using Python.\n",
    "\n",
    "At the Anaconda prompt, type ```python``` and hit ```[Enter]```. The ```python``` command starts the Python interpreter, also called the Python REPL (for Read Evaluate Print Loop).\n",
    "\n",
    "```text\n",
    "> python\n",
    "```\n",
    "\n",
    "![The Anaconda Prompt: What you see when you open the Anaconda Prompt. Note the word \"python\" was typed at the > prompt](images/anaconda_prompt_type_python.png)\n",
    "\n",
    "Note the Python version. You should see something like ```Python 3.8.3```.  With the interpreter running, you will see a set of greater-than symbols ```>>>``` before the cursor. \n",
    "\n",
    "![The Anaconda Prompt: The result of typing python is the Python REPL opens. Note the >>> prompt which denotes the Python interpreter is running](images/anaconda_prompt_python_REPL.png)\n",
    "\n",
    "Now you can type Python commands. Try typing ```import this```. You should see the **_Zen of Python_** by Tim Peters\n",
    "\n",
    "![Anaconda Prompt: Results of entering import this is The Zen of Python, by Tim Peters](images/anaconda_prompt_zen_of_python.png)\n",
    "\n",
    "To close the Python interpreter, type ```exit()``` at the prompt ```>>>```.  Note the double parenthesis at the end of the ```exit()``` command. The ```()``` is needed to stop the Python interpreter and get back out to the **Anaconda Prompt**.\n",
    "\n",
    "To close the **Anaconda Prompt**, you can either close the window with the mouse, or type ```exit```, no parenthesis necessary.\n",
    "\n",
    "When you want to use the Python interpreter again, just click the Windows Start button and select the **Anaconda Prompt** and type ```python```."
   ]
  }
 ],
 "metadata": {
  "kernelspec": {
   "display_name": "Python 3",
   "language": "python",
   "name": "python3"
  },
  "language_info": {
   "codemirror_mode": {
    "name": "ipython",
    "version": 3
   },
   "file_extension": ".py",
   "mimetype": "text/x-python",
   "name": "python",
   "nbconvert_exporter": "python",
   "pygments_lexer": "ipython3",
   "version": "3.8.3"
  }
 },
 "nbformat": 4,
 "nbformat_minor": 4
}
