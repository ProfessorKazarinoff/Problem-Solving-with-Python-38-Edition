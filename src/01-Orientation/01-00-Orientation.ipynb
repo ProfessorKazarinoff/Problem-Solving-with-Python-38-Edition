{
 "cells": [
  {
   "cell_type": "markdown",
   "metadata": {},
   "source": [
    "# Orientation"
   ]
  },
  {
   "cell_type": "markdown",
   "metadata": {},
   "source": [
    "Welcome to the wondeful world of problem-solving with Python! This first Orientation chapter will help you get started by guiding you through the process of installing Python on your computer."
   ]
  },
  {
   "cell_type": "markdown",
   "metadata": {
    "latex": {
     "after_cell": "newpage"
    }
   },
   "source": [
    "By the end of this chapter, you will be able to:\n",
    "\n",
    " * Describe why Python is a useful computer language for problem solvers\n",
    " \n",
    " * Describe applications where Python is used\n",
    " \n",
    " * Detail advantages of Python over other programming languages\n",
    " \n",
    " * Know the cost of Python\n",
    " \n",
    " * Know the difference between Python and Anaconda\n",
    " \n",
    " * Install Python on your computer\n",
    " \n",
    " * Install Anaconda on your computer\n"
   ]
  }
 ],
 "metadata": {
  "celltoolbar": "Edit Metadata",
  "kernelspec": {
   "display_name": "Python 3",
   "language": "python",
   "name": "python3"
  },
  "language_info": {
   "codemirror_mode": {
    "name": "ipython",
    "version": 3
   },
   "file_extension": ".py",
   "mimetype": "text/x-python",
   "name": "python",
   "nbconvert_exporter": "python",
   "pygments_lexer": "ipython3",
   "version": "3.8.3"
  }
 },
 "nbformat": 4,
 "nbformat_minor": 4
}
