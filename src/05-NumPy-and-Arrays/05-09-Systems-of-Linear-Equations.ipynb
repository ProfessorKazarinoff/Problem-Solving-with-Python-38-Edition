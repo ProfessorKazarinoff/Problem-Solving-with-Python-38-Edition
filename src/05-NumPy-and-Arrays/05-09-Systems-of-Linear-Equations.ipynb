{
 "cells": [
  {
   "cell_type": "markdown",
   "metadata": {},
   "source": [
    "## Systems of Linear Equations"
   ]
  },
  {
   "cell_type": "markdown",
   "metadata": {},
   "source": [
    "Systems of linear equations can be solved with arrays and NumPy."
   ]
  },
  {
   "cell_type": "markdown",
   "metadata": {},
   "source": [
    "A system of linear equations is shown below:\n",
    "\n",
    "$$ 8x + 3y -2z = 9 $$\n",
    "\n",
    "$$ -4x + 7y + 5z = 15 $$\n",
    "\n",
    "$$ 3x + 4y - 12z = 35 $$\n"
   ]
  },
  {
   "cell_type": "markdown",
   "metadata": {},
   "source": [
    "NumPy's ```np.linalg.solve()``` function can be used to solve this system of equations for the variables $x$, $y$ and $z$. \n",
    "\n",
    "The steps to solve the system of linear equations with ```np.linalg.solve()``` are below:\n",
    "\n",
    " * Create NumPy array ```A``` as a 3 by 3 array of the coefficients\n",
    " * Create a NumPy array ```b``` as the right-hand side of the equations (9, 15, 35)\n",
    " * Solve for the values of $x$, $y$ and $z$ using ```np.linalg.solve(A, b)```. \n",
    " \n",
    "The resulting array has three entries. One entry for each variable. "
   ]
  },
  {
   "cell_type": "code",
   "execution_count": 1,
   "metadata": {},
   "outputs": [
    {
     "data": {
      "text/plain": [
       "array([-0.58226371,  3.22870478, -1.98599767])"
      ]
     },
     "execution_count": 1,
     "metadata": {},
     "output_type": "execute_result"
    }
   ],
   "source": [
    "import numpy as np\n",
    "\n",
    "A = np.array([[8, 3, -2], [-4, 7, 5], [3, 4, -12]])\n",
    "b = np.array([9, 15, 35])\n",
    "x = np.linalg.solve(A, b)\n",
    "x"
   ]
  },
  {
   "cell_type": "markdown",
   "metadata": {},
   "source": [
    "We can plug the values of $x$, $y$, and $z$ back into one of the equations to check the answer. \n",
    "\n",
    "$x$ is the first entry of the array, $y$ is the second entry of the array, and $z$ is the third entry of the array.\n",
    "\n",
    "$x$ = ```x[0]```\n",
    "\n",
    "$y$ = ```x[1]```\n",
    "\n",
    "$z$ = ```x[2]```\n",
    "\n",
    "When these values are plugged into the equation from above:\n",
    "\n",
    "$$ 8x + 3y -2z = 9 $$\n",
    "\n",
    "The answer should be ```9.0```.\n"
   ]
  },
  {
   "cell_type": "code",
   "execution_count": 2,
   "metadata": {},
   "outputs": [
    {
     "data": {
      "text/plain": [
       "9.0"
      ]
     },
     "execution_count": 2,
     "metadata": {},
     "output_type": "execute_result"
    }
   ],
   "source": [
    "8*x[0] + 3*x[1] - 2*x[2]"
   ]
  }
 ],
 "metadata": {
  "kernelspec": {
   "display_name": "Python 3",
   "language": "python",
   "name": "python3"
  },
  "language_info": {
   "codemirror_mode": {
    "name": "ipython",
    "version": 3
   },
   "file_extension": ".py",
   "mimetype": "text/x-python",
   "name": "python",
   "nbconvert_exporter": "python",
   "pygments_lexer": "ipython3",
   "version": "3.8.3"
  }
 },
 "nbformat": 4,
 "nbformat_minor": 2
}
