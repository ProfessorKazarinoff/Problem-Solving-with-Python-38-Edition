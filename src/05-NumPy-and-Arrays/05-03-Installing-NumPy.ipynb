{
 "cells": [
  {
   "cell_type": "markdown",
   "metadata": {},
   "source": [
    "## Installing NumPy"
   ]
  },
  {
   "cell_type": "markdown",
   "metadata": {},
   "source": [
    "Before NumPy's functions and methods can be used, NumPy must first be installed. Depending on which distribution of Python you use, the installation method is slightly different."
   ]
  },
  {
   "cell_type": "markdown",
   "metadata": {},
   "source": [
    "### Install NumPy with Anaconda\n",
    "\n",
    "If you installed the Anaconda distribution of Python, NumPy comes pre-installed and no further installation steps are necessary. \n",
    "\n",
    "If you use a version of Python from [python.org](https://python.org) or a version of Python that came with your operating system, the **Anaconda Prompt** and **conda** or a terminal and **pip** can be used to install NumPy."
   ]
  },
  {
   "cell_type": "markdown",
   "metadata": {},
   "source": [
    "### Install NumPy with the Anaconda Prompt\n",
    "\n",
    "To install NumPy, open the **Anaconda Prompt** and type:\n",
    "\n",
    "```text\n",
    "> conda install numpy\n",
    "```\n",
    "\n",
    "Type ```y``` for yes when prompted. This command installs NumPy in the active environment."
   ]
  },
  {
   "cell_type": "markdown",
   "metadata": {},
   "source": [
    "### Install NumPy with pip\n",
    "\n",
    "To install NumPy with **pip** (the Python package manager), open a terminal and type:\n",
    "\n",
    "```text\n",
    "$ pip install numpy\n",
    "```\n",
    "\n",
    "This command installs NumPy in the current working Python environment."
   ]
  },
  {
   "cell_type": "markdown",
   "metadata": {},
   "source": [
    "### Verify NumPy installation\n",
    "\n",
    "To verify NumPy is installed, invoke NumPy's version using the Python REPL. Import NumPy and call the ```.__version__``` attribute common to most Python packages."
   ]
  },
  {
   "cell_type": "code",
   "execution_count": 1,
   "metadata": {},
   "outputs": [
    {
     "data": {
      "text/plain": [
       "'1.18.5'"
      ]
     },
     "execution_count": 1,
     "metadata": {},
     "output_type": "execute_result"
    }
   ],
   "source": [
    "import numpy as np\n",
    "np.__version__"
   ]
  },
  {
   "cell_type": "markdown",
   "metadata": {},
   "source": [
    "A version number like ```'1.18.5'``` indicates a successful NumPy installation."
   ]
  }
 ],
 "metadata": {
  "kernelspec": {
   "display_name": "Python 3",
   "language": "python",
   "name": "python3"
  },
  "language_info": {
   "codemirror_mode": {
    "name": "ipython",
    "version": 3
   },
   "file_extension": ".py",
   "mimetype": "text/x-python",
   "name": "python",
   "nbconvert_exporter": "python",
   "pygments_lexer": "ipython3",
   "version": "3.8.3"
  }
 },
 "nbformat": 4,
 "nbformat_minor": 2
}
