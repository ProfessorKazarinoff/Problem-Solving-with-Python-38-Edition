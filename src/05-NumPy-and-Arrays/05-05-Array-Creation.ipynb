{
 "cells": [
  {
   "cell_type": "markdown",
   "metadata": {},
   "source": [
    "## Array Creation"
   ]
  },
  {
   "cell_type": "markdown",
   "metadata": {},
   "source": [
    "NumPy arrays are created with the ```np.array()``` function. The arguments provided to ```np.array()``` needs to be a list or iterable. An example is below. Note how the list ```[1,2,3]``` is passed into the function with square brackets at either end."
   ]
  },
  {
   "cell_type": "code",
   "execution_count": 1,
   "metadata": {},
   "outputs": [
    {
     "data": {
      "text/plain": [
       "array([1, 2, 3])"
      ]
     },
     "execution_count": 1,
     "metadata": {},
     "output_type": "execute_result"
    }
   ],
   "source": [
    "import numpy as np\n",
    "np.array([1,2,3])"
   ]
  },
  {
   "cell_type": "markdown",
   "metadata": {},
   "source": [
    "The data type can be passed into the ```np.array()``` function as a second optional keyword argument. Available data types include ```'int64'```, ```'float'```, ```'complex'``` and ```'>U32'``` (a string data type)."
   ]
  },
  {
   "cell_type": "code",
   "execution_count": 2,
   "metadata": {},
   "outputs": [
    {
     "data": {
      "text/plain": [
       "array([1., 2., 3.])"
      ]
     },
     "execution_count": 2,
     "metadata": {},
     "output_type": "execute_result"
    }
   ],
   "source": [
    "import numpy as np\n",
    "np.array([1,2,3], dtype='float')"
   ]
  },
  {
   "cell_type": "markdown",
   "metadata": {},
   "source": [
    "The data type used in a NumPy array can be determined using the ```.dtype``` attribute. For instance, an array of ```floats``` returns ```float64```."
   ]
  },
  {
   "cell_type": "code",
   "execution_count": 3,
   "metadata": {},
   "outputs": [
    {
     "data": {
      "text/plain": [
       "dtype('float64')"
      ]
     },
     "execution_count": 3,
     "metadata": {},
     "output_type": "execute_result"
    }
   ],
   "source": [
    "import numpy as np\n",
    "my_array = np.array([1,2,3], dtype='float')\n",
    "my_array.dtype"
   ]
  },
  {
   "cell_type": "markdown",
   "metadata": {},
   "source": [
    "In addition to ```np.array()```, there are other functions you can use to create NumPy arrays."
   ]
  },
  {
   "cell_type": "markdown",
   "metadata": {},
   "source": [
    "### Arrays of Regularly Spaced Numbers\n",
    "\n",
    "There are multiple ways to create arrays of regularly spaced numbers with NumPy. The next section introduces five NumPy functions to create regular arrays."
   ]
  },
  {
   "cell_type": "markdown",
   "metadata": {},
   "source": [
    "#### np.arange()\n",
    "\n",
    "NumPy's ```np.arange()``` function creates a NumPy array according the arguments ```start```, ```stop```,```step```.\n",
    "\n",
    "```python\n",
    "my_array = np.arange(start, stop, step)\n",
    "```\n",
    "\n",
    "The ```np.arange()``` function is useful for creating an array of regularly spaced numbers where you know the _step size_. \n",
    "\n",
    "Consider creating a NumPy array of even numbers between ```0``` and ```10```. Note that just like counting in Python, counting in NumPy starts at ```0``` and ends at ```n-1```."
   ]
  },
  {
   "cell_type": "code",
   "execution_count": 4,
   "metadata": {},
   "outputs": [
    {
     "data": {
      "text/plain": [
       "array([ 0,  2,  4,  6,  8, 10])"
      ]
     },
     "execution_count": 4,
     "metadata": {},
     "output_type": "execute_result"
    }
   ],
   "source": [
    "np.arange(0,10+2,2)"
   ]
  },
  {
   "cell_type": "markdown",
   "metadata": {},
   "source": [
    "#### np.linspace()\n",
    "\n",
    "NumPy's ```np.linspace()``` function creates a NumPy array according the arguments ```start```, ```stop```,```number_of_elements```.\n",
    "\n",
    "```python\n",
    "my_array = np.linspace(start, stop, number_of_elements)\n",
    "```\n",
    "\n",
    "The ```np.linspace()``` function is useful for creating an array of regularly spaced numbers when the step size is unknown, but the number of values is. Consider creating a NumPy array of 10 equally spaced numbers between ```0``` and ```2pi```."
   ]
  },
  {
   "cell_type": "code",
   "execution_count": 5,
   "metadata": {},
   "outputs": [
    {
     "data": {
      "text/plain": [
       "array([0.        , 0.6981317 , 1.3962634 , 2.0943951 , 2.7925268 ,\n",
       "       3.4906585 , 4.1887902 , 4.88692191, 5.58505361, 6.28318531])"
      ]
     },
     "execution_count": 5,
     "metadata": {},
     "output_type": "execute_result"
    }
   ],
   "source": [
    "np.linspace(0,2*np.pi,10)"
   ]
  },
  {
   "cell_type": "markdown",
   "metadata": {},
   "source": [
    "#### np.logspace()\n",
    "\n",
    "NumPy's ```np.logspace()``` function creates a NumPy array of numbers according the arguments ```start```, ```stop```,```number of elements```, but unlike ```np.linspace()``` (which produces a linearly spaced array), ```np.logspace()``` produces a logarithmically spaced array.\n",
    "\n",
    "```python\n",
    "my_array = np.logspace(start, stop, number of elements, base=<num>)\n",
    "```\n",
    "\n",
    "The ```np.logspace()``` function is useful to create an array of logarithmically spaced numbers when the spacing interval is not known but the number of values is. Consider creating a NumPy array of 4 logarithmically spaced numbers between ```10``` and ```100```. The function call is ```np.logspace(1, 2, 4)```. The ```start``` is $10^1 = 10$ and the ```stop``` is $10^2 = 100$, and the number of elements is ```4```."
   ]
  },
  {
   "cell_type": "code",
   "execution_count": 6,
   "metadata": {},
   "outputs": [
    {
     "data": {
      "text/plain": [
       "array([ 10.        ,  21.5443469 ,  46.41588834, 100.        ])"
      ]
     },
     "execution_count": 6,
     "metadata": {},
     "output_type": "execute_result"
    }
   ],
   "source": [
    "np.logspace(1, 2, 4)"
   ]
  },
  {
   "cell_type": "markdown",
   "metadata": {
    "latex": {
     "environment": "alert-info"
    }
   },
   "source": [
    "<div class=\"alert alert-info\" role=\"alert\">\n",
    "When using np.logspace(), be careful about inputting large numbers for stop. The stop argument is the exponent or power of 10, not the stop value.\n",
    "</div>"
   ]
  },
  {
   "cell_type": "markdown",
   "metadata": {},
   "source": [
    "Large numbers passed to ```np.logspace()``` will produce errors. Remember to pass exponents to ```np.logspace()```. The code below throws an error because $10^{1000}$ is bigger than the largest floating point number supported by a 64 bit computer."
   ]
  },
  {
   "cell_type": "code",
   "execution_count": 7,
   "metadata": {},
   "outputs": [
    {
     "name": "stderr",
     "output_type": "stream",
     "text": [
      "C:\\Users\\Peter\\Anaconda3\\envs\\book38-website\\lib\\site-packages\\numpy\\core\\function_base.py:274: RuntimeWarning: overflow encountered in power\n",
      "  return _nx.power(base, y)\n"
     ]
    },
    {
     "data": {
      "text/plain": [
       "array([1.e+10,    inf,    inf,    inf])"
      ]
     },
     "execution_count": 7,
     "metadata": {},
     "output_type": "execute_result"
    }
   ],
   "source": [
    "np.logspace(10,1000,4)"
   ]
  },
  {
   "cell_type": "markdown",
   "metadata": {},
   "source": [
    "#### np.zeros()\n",
    "\n",
    "NumPy's ```np.zeros()``` function creates a NumPy array containing all zeros of a specific size. ```np.zeros()``` is useful when the size of an array is known, but the values that will go into the array have not been created yet. Note how a tuple of ```(rows,cols)``` is passed as an argument to ```np.zeros()```. Two sets of parenthesis are needed.\n",
    "\n",
    "```python\n",
    "my_array = np.zeros((rows,cols))\n",
    "```"
   ]
  },
  {
   "cell_type": "code",
   "execution_count": 8,
   "metadata": {},
   "outputs": [
    {
     "data": {
      "text/plain": [
       "array([[0., 0., 0., 0., 0.],\n",
       "       [0., 0., 0., 0., 0.],\n",
       "       [0., 0., 0., 0., 0.],\n",
       "       [0., 0., 0., 0., 0.],\n",
       "       [0., 0., 0., 0., 0.]])"
      ]
     },
     "execution_count": 8,
     "metadata": {},
     "output_type": "execute_result"
    }
   ],
   "source": [
    "np.zeros((5,5))"
   ]
  },
  {
   "cell_type": "markdown",
   "metadata": {},
   "source": [
    "#### np.ones()\n",
    "\n",
    "NumPy's ```np.ones()``` function creates a NumPy array containing all 1's of a specific size. Like ```np.zeros()```, ```np.ones()``` is useful when the size of an array is known, but the values that will go into the array have not been created yet.\n",
    "\n",
    "```python\n",
    "my_array = np.ones((rows,cols))\n",
    "```"
   ]
  },
  {
   "cell_type": "code",
   "execution_count": 9,
   "metadata": {},
   "outputs": [
    {
     "data": {
      "text/plain": [
       "array([[1., 1., 1., 1., 1.],\n",
       "       [1., 1., 1., 1., 1.],\n",
       "       [1., 1., 1., 1., 1.]])"
      ]
     },
     "execution_count": 9,
     "metadata": {},
     "output_type": "execute_result"
    }
   ],
   "source": [
    "np.ones((3,5))"
   ]
  },
  {
   "cell_type": "markdown",
   "metadata": {},
   "source": [
    "In the next section, you'll learn how to create arrays of random numbers with NumPy."
   ]
  },
  {
   "cell_type": "markdown",
   "metadata": {},
   "source": [
    "### Arrays of Random Numbers"
   ]
  },
  {
   "cell_type": "markdown",
   "metadata": {},
   "source": [
    "NumPy has functions to create arrays of many different types of random numbers in the ```np.random``` module. A few of the common random number types are detailed below."
   ]
  },
  {
   "cell_type": "markdown",
   "metadata": {},
   "source": [
    "#### Array of Random Integers\n",
    "\n",
    "Arrays of random integers can be created with NumPy's ```np.random.randint()``` function. The general syntax is:\n",
    "\n",
    "```python\n",
    "np.random.randint(lower_limit, upper_limit, number_of_values)\n",
    "```\n",
    "\n",
    "The code below creates an array of 5 random integers, each random integer between 1 and 10:"
   ]
  },
  {
   "cell_type": "code",
   "execution_count": 10,
   "metadata": {},
   "outputs": [
    {
     "data": {
      "text/plain": [
       "array([4, 8, 3, 8, 7])"
      ]
     },
     "execution_count": 10,
     "metadata": {},
     "output_type": "execute_result"
    }
   ],
   "source": [
    "np.random.randint(0,10,5)"
   ]
  },
  {
   "cell_type": "markdown",
   "metadata": {},
   "source": [
    "Array dimensions can be provided as the third argument to the ```np.random.randint()``` function. The code below creates a 5 $\\times$ 5 array of random numbers between 1 and 10:"
   ]
  },
  {
   "cell_type": "code",
   "execution_count": 11,
   "metadata": {},
   "outputs": [
    {
     "data": {
      "text/plain": [
       "array([[2, 3, 3, 0, 5],\n",
       "       [0, 7, 8, 4, 3],\n",
       "       [0, 8, 0, 3, 0],\n",
       "       [1, 0, 4, 2, 7],\n",
       "       [1, 3, 8, 5, 0]])"
      ]
     },
     "execution_count": 11,
     "metadata": {},
     "output_type": "execute_result"
    }
   ],
   "source": [
    "np.random.randint(0,10,[5,5])"
   ]
  },
  {
   "cell_type": "markdown",
   "metadata": {},
   "source": [
    "#### Array of Random Floats\n",
    "\n",
    "Arrays of random floating point numbers can be created with NumPy's ```np.random.rand()``` function. The general syntax is:\n",
    "\n",
    "```python\n",
    "np.random.rand(number of values)\n",
    "```\n",
    "\n",
    "To create an array of 5 random floats between 0 and 1:"
   ]
  },
  {
   "cell_type": "code",
   "execution_count": 12,
   "metadata": {},
   "outputs": [
    {
     "data": {
      "text/plain": [
       "array([0.90912654, 0.3629624 , 0.09261753, 0.62828743, 0.19222152])"
      ]
     },
     "execution_count": 12,
     "metadata": {},
     "output_type": "execute_result"
    }
   ],
   "source": [
    "np.random.rand(5)"
   ]
  },
  {
   "cell_type": "markdown",
   "metadata": {},
   "source": [
    "The upper and lower ranges of random floats can me modified with arithmetic.\n",
    "\n",
    "To expand the range of random floats to between ```0``` and ```10```, multiply the result by ```10```."
   ]
  },
  {
   "cell_type": "code",
   "execution_count": 13,
   "metadata": {},
   "outputs": [
    {
     "data": {
      "text/plain": [
       "array([0.65380687, 5.13161149, 4.1437412 , 2.80850144, 0.44884216])"
      ]
     },
     "execution_count": 13,
     "metadata": {},
     "output_type": "execute_result"
    }
   ],
   "source": [
    "np.random.rand(5)*10"
   ]
  },
  {
   "cell_type": "markdown",
   "metadata": {},
   "source": [
    "To change the range to between ```11``` and ```13```, we multiply the range by ```2``` (range 0-2), then add ```11``` to the result."
   ]
  },
  {
   "cell_type": "code",
   "execution_count": 14,
   "metadata": {},
   "outputs": [
    {
     "data": {
      "text/plain": [
       "array([12.13196411, 12.85124475, 12.68830256, 11.52913031, 11.12186019])"
      ]
     },
     "execution_count": 14,
     "metadata": {},
     "output_type": "execute_result"
    }
   ],
   "source": [
    "np.random.rand(5)*2+11"
   ]
  },
  {
   "cell_type": "markdown",
   "metadata": {},
   "source": [
    "#### Random Array Choice from  a List\n",
    "\n",
    "NumPy can be used to choose an array of numbers randomly selected from a list or array. \n",
    "\n",
    "```python\n",
    "np.random.choice(list_of_choices, number_of_choices)\n",
    "```\n",
    "\n",
    "To choose three numbers at random from a list of ```[1,5,9,11]``` use:"
   ]
  },
  {
   "cell_type": "code",
   "execution_count": 15,
   "metadata": {},
   "outputs": [
    {
     "data": {
      "text/plain": [
       "array([11,  5,  9])"
      ]
     },
     "execution_count": 15,
     "metadata": {},
     "output_type": "execute_result"
    }
   ],
   "source": [
    "lst = [1,5,9,11]\n",
    "np.random.choice(lst,3)"
   ]
  },
  {
   "cell_type": "markdown",
   "metadata": {},
   "source": [
    "#### Random Array with a Normal Distribution\n",
    "\n",
    "```np.random.randn()``` returns an array of  random numbers with a normal distribution, assuming a mean of 0 and variance of 1.  \n",
    "\n",
    "```python\n",
    "np.random.randn(number_of_values)\n",
    "```"
   ]
  },
  {
   "cell_type": "code",
   "execution_count": 16,
   "metadata": {},
   "outputs": [
    {
     "data": {
      "text/plain": [
       "array([ 0.66482338,  0.35520296,  0.88770577,  0.67484957, -0.06928212,\n",
       "       -0.64924565,  0.20230255, -0.93580358, -0.71561142,  0.60357416])"
      ]
     },
     "execution_count": 16,
     "metadata": {},
     "output_type": "execute_result"
    }
   ],
   "source": [
    "np.random.randn(10)"
   ]
  },
  {
   "cell_type": "markdown",
   "metadata": {},
   "source": [
    "To specify a mean ```mu``` and a standard deviation ```sigma```, the function can be wrapped with:"
   ]
  },
  {
   "cell_type": "code",
   "execution_count": 17,
   "metadata": {},
   "outputs": [
    {
     "data": {
      "text/plain": [
       "array([64.39220241, 68.48383812, 62.87609318, 66.89633554, 60.68429146,\n",
       "       75.25277236, 75.57345168, 76.03785403, 67.56194018, 69.60400365])"
      ]
     },
     "execution_count": 17,
     "metadata": {},
     "output_type": "execute_result"
    }
   ],
   "source": [
    "mu = 70\n",
    "sigma = 6.6\n",
    "\n",
    "sigma * np.random.randn(10) + mu"
   ]
  },
  {
   "cell_type": "markdown",
   "metadata": {},
   "source": [
    "Matplotlib's ```plt.hist()``` function can be used to quickly plot a normal distribution created with NumPy's ```np.random.randn()``` function. You will learn more about Matplotlib and plotting with Python in the next chapter."
   ]
  },
  {
   "cell_type": "code",
   "execution_count": 18,
   "metadata": {},
   "outputs": [
    {
     "data": {
      "image/png": "[encoded data removed]",
      "text/plain": [
       "<Figure size 432x288 with 1 Axes>"
      ]
     },
     "metadata": {
      "needs_background": "light"
     },
     "output_type": "display_data"
    }
   ],
   "source": [
    "import matplotlib.pyplot as plt\n",
    "import numpy as np\n",
    "%matplotlib inline\n",
    "\n",
    "mu = 70\n",
    "sigma = 6.6\n",
    "\n",
    "sample = sigma * np.random.randn(1000) + mu\n",
    "plt.hist(sample)\n",
    "plt.show()"
   ]
  },
  {
   "cell_type": "markdown",
   "metadata": {},
   "source": [
    "The next section introduces methods to create 2-D NumPy arrays."
   ]
  },
  {
   "cell_type": "markdown",
   "metadata": {},
   "source": [
    "### 2-D Arrays"
   ]
  },
  {
   "cell_type": "markdown",
   "metadata": {},
   "source": [
    "#### np.meshgrid()\n",
    "\n",
    "NumPy's ```np.meshgrid()``` function takes in two positional arguments which are 1D NumPy arrays. The two input arrays do not have to contain the same number of elements. The outputs of the ```np.meshgrid()``` function are two 2D arrays. One of the 2D arrays has the same values in each row; the other 2D array has the same values in each column. \n",
    "\n",
    "```python\n",
    "np.meshgrid(array1, array2)\n",
    "```"
   ]
  },
  {
   "cell_type": "code",
   "execution_count": 19,
   "metadata": {
    "scrolled": true
   },
   "outputs": [
    {
     "name": "stdout",
     "output_type": "stream",
     "text": [
      "[[0 1 2 3 4 5]\n",
      " [0 1 2 3 4 5]\n",
      " [0 1 2 3 4 5]\n",
      " [0 1 2 3 4 5]\n",
      " [0 1 2 3 4 5]\n",
      " [0 1 2 3 4 5]]\n",
      "[[ 0  0  0  0  0  0]\n",
      " [ 2  2  2  2  2  2]\n",
      " [ 4  4  4  4  4  4]\n",
      " [ 6  6  6  6  6  6]\n",
      " [ 8  8  8  8  8  8]\n",
      " [10 10 10 10 10 10]]\n"
     ]
    }
   ],
   "source": [
    "x = np.arange(0,6)\n",
    "y = np.arange(0,11,2)\n",
    "X, Y = np.meshgrid(x,y)\n",
    "print(X)\n",
    "print(Y)"
   ]
  },
  {
   "cell_type": "markdown",
   "metadata": {},
   "source": [
    "Note how the first array ```X``` has the same numbers in each row, and the second array ```Y``` has the same numbers in each column."
   ]
  },
  {
   "cell_type": "markdown",
   "metadata": {},
   "source": [
    "#### np.mgrid[]\n",
    "\n",
    "NumPy's ```np.mgrid[]``` function is similar to ```np.meshgrid()```, but has a \"MATLAB-like\" syntax and behavior. \n",
    "\n",
    "Use square brackets ```[ ]``` after the ```np.mgrid``` function name. Separate the two \"lists\" passed as input arguments with a comma and use the ```start:stop:step``` indexing method. The outputs of the ```np.mgrid[]``` function are two 2D arrays. The first 2D array has the same values in each row; the second 2D array has the same values in each column. \n",
    "\n",
    "```python\n",
    "np.mgrid[start:stop:step, start:stop:step]\n",
    "```"
   ]
  },
  {
   "cell_type": "code",
   "execution_count": 20,
   "metadata": {},
   "outputs": [
    {
     "name": "stdout",
     "output_type": "stream",
     "text": [
      "[[0 0 0 0 0 0]\n",
      " [1 1 1 1 1 1]\n",
      " [2 2 2 2 2 2]\n",
      " [3 3 3 3 3 3]\n",
      " [4 4 4 4 4 4]]\n",
      "[[ 0  2  4  6  8 10]\n",
      " [ 0  2  4  6  8 10]\n",
      " [ 0  2  4  6  8 10]\n",
      " [ 0  2  4  6  8 10]\n",
      " [ 0  2  4  6  8 10]]\n"
     ]
    }
   ],
   "source": [
    "X, Y = np.mgrid[0:5,0:11:2]\n",
    "print(X)\n",
    "print(Y)"
   ]
  },
  {
   "cell_type": "markdown",
   "metadata": {},
   "source": [
    "### Section Summary"
   ]
  },
  {
   "cell_type": "markdown",
   "metadata": {},
   "source": [
    "Below is a list of NumPy functions and associated descriptions used in this section.\n",
    "\n",
    "| Function | Description |\n",
    "| --- | --- |\n",
    "| ```np.array([list, of, numbers])``` | Array from a list |\n",
    "| ```np.arange(start, stop, step)``` | Array with known step |\n",
    "| ```np.linspace(start, stop, num)``` | Array with known size |\n",
    "| ```np.logspace(start, stop, num)``` | Logorithmically spaced array |\n",
    "|```np.zeros((rows, cols))``` | Array of zeros |\n",
    "| ```np.ones((rows, cols))``` | Array of ones |\n",
    "| ```np.random.randint(start, stop, num)``` | Random integers |\n",
    "| ```np.random.rand(num)``` | Random float, 0 to 1 |\n",
    "| ```np.random.choice(list, num)``` | Random choice from a list | \n",
    "| ```np.random.randn(num)``` | Random normal distribution |\n",
    "| ```np.meshgrid(array1, array2)``` | Two 2D arrays from two 1D arrays  |\n",
    "| ```np.mgrid[start:stop:step, start:stop:step]``` | MATLAB meshgrid syntax |\n"
   ]
  }
 ],
 "metadata": {
  "celltoolbar": "Edit Metadata",
  "kernelspec": {
   "display_name": "Python 3",
   "language": "python",
   "name": "python3"
  },
  "language_info": {
   "codemirror_mode": {
    "name": "ipython",
    "version": 3
   },
   "file_extension": ".py",
   "mimetype": "text/x-python",
   "name": "python",
   "nbconvert_exporter": "python",
   "pygments_lexer": "ipython3",
   "version": "3.8.3"
  }
 },
 "nbformat": 4,
 "nbformat_minor": 2
}
