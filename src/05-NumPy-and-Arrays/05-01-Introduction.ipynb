{
 "cells": [
  {
   "cell_type": "markdown",
   "metadata": {},
   "source": [
    "# NumPy and Arrays"
   ]
  },
  {
   "cell_type": "markdown",
   "metadata": {},
   "source": [
    "## Introduction"
   ]
  },
  {
   "cell_type": "markdown",
   "metadata": {},
   "source": [
    "NumPy is a Python package used for array creation and numerical computation. NumPy is one of the fundamental packages for scientific computing with Python. In this chapter, you will learn how to use NumPy to complete operations on arrays."
   ]
  },
  {
   "cell_type": "markdown",
   "metadata": {
    "latex": {
     "after_cell": "newpage"
    }
   },
   "source": [
    "By the end of this chapter you will be able to:\n",
    "\n",
    " * Explain the difference between a Python list and a NumPy array\n",
    "\n",
    " * Create NumPy arrays\n",
    " \n",
    " * Modify NumPy arrays\n",
    " \n",
    " * Index and slice NumPy arrays\n",
    " \n",
    " * Run mathematical operations on  NumPy arrays\n",
    " \n",
    " * Solve a system of linear equations using matrices"
   ]
  }
 ],
 "metadata": {
  "kernelspec": {
   "display_name": "Python 3",
   "language": "python",
   "name": "python3"
  },
  "language_info": {
   "codemirror_mode": {
    "name": "ipython",
    "version": 3
   },
   "file_extension": ".py",
   "mimetype": "text/x-python",
   "name": "python",
   "nbconvert_exporter": "python",
   "pygments_lexer": "ipython3",
   "version": "3.8.3"
  }
 },
 "nbformat": 4,
 "nbformat_minor": 2
}
