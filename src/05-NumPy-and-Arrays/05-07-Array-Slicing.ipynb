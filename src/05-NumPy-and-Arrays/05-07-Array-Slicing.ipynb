{
 "cells": [
  {
   "cell_type": "markdown",
   "metadata": {},
   "source": [
    "## Array Slicing"
   ]
  },
  {
   "cell_type": "markdown",
   "metadata": {},
   "source": [
    "Multiple values stored within an array can be accessed simultaneously with array _slicing_. To pull out a section or slice of an array, the colon operator ```:``` is used when calling the index. The general form is:\n",
    "\n",
    "```python\n",
    "<slice> = <array>[start:stop]\n",
    "```\n",
    "\n",
    "Where ```<slice>``` is the slice or section of the array object ```<array>```. The index of the slice is specified in ```[start:stop]```. Remember Python counting starts at ```0``` and ends at ```n-1```. The index ```[0:2]``` pulls the first two values out of an array. The index ```[1:3]``` pulls the second and third values out of an array.\n",
    "\n",
    "An example of slicing the first two elements out of an array is below."
   ]
  },
  {
   "cell_type": "code",
   "execution_count": 1,
   "metadata": {},
   "outputs": [
    {
     "name": "stdout",
     "output_type": "stream",
     "text": [
      "[2 4]\n"
     ]
    }
   ],
   "source": [
    "import numpy as np\n",
    "\n",
    "a = np.array([2, 4, 6])\n",
    "b = a[0:2]\n",
    "print(b)"
   ]
  },
  {
   "cell_type": "markdown",
   "metadata": {},
   "source": [
    "On either side of the colon, a blank stands for \"default\". The default start is index 0, the default step is 1, and the default stop is the last index.\n",
    "\n",
    " * ```[:2]``` corresponds to ```[start=default:stop=2]``` \n",
    " * ```[1:]``` corresponds to ```[start=1:stop=default]```\n",
    " \n",
    "Therefore, the slicing operation ```[:2]``` pulls out the first and second values in an array. The slicing operation ```[1:]``` pull out the second through the last values in an array.\n",
    " \n",
    " The example below illustrates the default ```stop``` value is the last value in the array."
   ]
  },
  {
   "cell_type": "code",
   "execution_count": 2,
   "metadata": {},
   "outputs": [
    {
     "name": "stdout",
     "output_type": "stream",
     "text": [
      "[2 4 6 8]\n",
      "[4 6 8]\n"
     ]
    }
   ],
   "source": [
    "import numpy as np\n",
    "\n",
    "a = np.array([2, 4, 6, 8])\n",
    "print(a)\n",
    "b = a[1:]\n",
    "print(b)"
   ]
  },
  {
   "cell_type": "markdown",
   "metadata": {},
   "source": [
    "The next example shows the default ```start``` value is the first value in the array."
   ]
  },
  {
   "cell_type": "code",
   "execution_count": 3,
   "metadata": {},
   "outputs": [
    {
     "name": "stdout",
     "output_type": "stream",
     "text": [
      "[2 4 6 8]\n",
      "[2 4 6]\n"
     ]
    }
   ],
   "source": [
    "import numpy as np\n",
    "\n",
    "a = np.array([2, 4, 6, 8])\n",
    "print(a)\n",
    "b = a[:3]\n",
    "print(b)"
   ]
  },
  {
   "cell_type": "markdown",
   "metadata": {},
   "source": [
    "The following indexing operations output the same array."
   ]
  },
  {
   "cell_type": "code",
   "execution_count": 4,
   "metadata": {},
   "outputs": [
    {
     "name": "stdout",
     "output_type": "stream",
     "text": [
      "[2 4 6 8]\n",
      "[2 4 6 8]\n",
      "[2 4 6 8]\n",
      "[2 4 6 8]\n"
     ]
    }
   ],
   "source": [
    "import numpy as np\n",
    "\n",
    "a = np.array([2, 4, 6, 8])\n",
    "b = a[0:4]\n",
    "print(b)\n",
    "c = a[:4]\n",
    "print(c)\n",
    "d = a[0:]\n",
    "print(d)\n",
    "e = a[:]\n",
    "print(e)"
   ]
  },
  {
   "cell_type": "markdown",
   "metadata": {},
   "source": [
    "### Slicing 2D Arrays"
   ]
  },
  {
   "cell_type": "markdown",
   "metadata": {},
   "source": [
    "2D NumPy arrays can be sliced with the general form:\n",
    "\n",
    "```python\n",
    "<slice> = <array>[start_row:end_row, start_col:end_col]\n",
    "```\n",
    "\n",
    "The code section below creates a two-row by four-column array and indexes out the first two rows and the first three columns."
   ]
  },
  {
   "cell_type": "code",
   "execution_count": 5,
   "metadata": {},
   "outputs": [
    {
     "name": "stdout",
     "output_type": "stream",
     "text": [
      "[[ 2  4  6  8]\n",
      " [10 20 30 40]]\n",
      "[[ 2  4  6]\n",
      " [10 20 30]]\n"
     ]
    }
   ],
   "source": [
    "import numpy as np\n",
    "\n",
    "a = np.array([[2, 4, 6, 8], [10, 20, 30, 40]])\n",
    "print(a)\n",
    "b = a[0:2, 0:3]\n",
    "print(b)"
   ]
  },
  {
   "cell_type": "markdown",
   "metadata": {},
   "source": [
    "The code section below slices out the first two rows and all columns from array ```a```."
   ]
  },
  {
   "cell_type": "code",
   "execution_count": 6,
   "metadata": {},
   "outputs": [
    {
     "name": "stdout",
     "output_type": "stream",
     "text": [
      "[[ 2  4  6  8]\n",
      " [10 20 30 40]]\n"
     ]
    }
   ],
   "source": [
    "import numpy as np\n",
    "\n",
    "a = np.array([[2, 4, 6, 8], [10, 20, 30, 40]])\n",
    "b = a[:2, :]  #[first two rows, all columns]\n",
    "print(b)"
   ]
  },
  {
   "cell_type": "markdown",
   "metadata": {},
   "source": [
    "Again, a blank represents the defaults: the first index, count by 1, or the last index. The colon operator all by itself represents \"all\". "
   ]
  },
  {
   "cell_type": "code",
   "execution_count": 7,
   "metadata": {},
   "outputs": [
    {
     "name": "stdout",
     "output_type": "stream",
     "text": [
      "[[ 2  4  6  8]\n",
      " [10 20 30 40]]\n"
     ]
    }
   ],
   "source": [
    "import numpy as np\n",
    "\n",
    "a = np.array([[2, 4, 6, 8], [10, 20, 30, 40]])\n",
    "b = a[:,:]  #[all rows, all columns]\n",
    "print(b)"
   ]
  }
 ],
 "metadata": {
  "kernelspec": {
   "display_name": "Python 3",
   "language": "python",
   "name": "python3"
  },
  "language_info": {
   "codemirror_mode": {
    "name": "ipython",
    "version": 3
   },
   "file_extension": ".py",
   "mimetype": "text/x-python",
   "name": "python",
   "nbconvert_exporter": "python",
   "pygments_lexer": "ipython3",
   "version": "3.8.3"
  }
 },
 "nbformat": 4,
 "nbformat_minor": 2
}
