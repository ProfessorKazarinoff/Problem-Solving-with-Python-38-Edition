{
 "cells": [
  {
   "cell_type": "markdown",
   "metadata": {
    "latex": {
     "before_cell": "newpage"
    }
   },
   "source": [
    "## Summary"
   ]
  },
  {
   "cell_type": "markdown",
   "metadata": {},
   "source": [
    "In this chapter, you learned how to work with NumPy arrays. NumPy is a Python package used for numerical calculations and working with arrays. An array is a data structure that only contains objects that share the same data type. Arrays can be one dimensional, two dimensional or up to n-dimensional. Arrays are faster than lists in large-scale numerical calculations. \n",
    "\n",
    "You learned how to create arrays in a variety of ways:\n",
    "\n",
    " * Create an array from a Python list with ```np.array()```\n",
    " * Create an array of regularly spaced numbers with ```np.arange()```, ```np.linspace()```, and ```np.logspace```\n",
    " * Create an array of random numbers with ```np.random.ranint()```, ```np.random.rand()```, and ```np.random.randn()```\n",
    " * Create two 2D arrays from two 1D arrays with ```np.meshgrid()``` and ```np.mgrid()```\n",
    "\n",
    "In the middle of the chapter, you learned how to index and slice arrays. Slicing NumPy arrays share the same syntax used to slice Python lists and strings.\n",
    "\n",
    "At the end of the chapter, you learned how to run mathematical operations on arrays. NumPy's mathematical functions operate on arrays like Python's math functions operate on integers and floats. NumPy has additional functions like ```np.dot()``` and ```np.cross()``` that cannot be applied to scalars. NumPy's ```np.linalg.solve()``` function can be used to solve systems of linear equations."
   ]
  },
  {
   "cell_type": "markdown",
   "metadata": {},
   "source": [
    "### Key Terms and Concepts"
   ]
  },
  {
   "cell_type": "markdown",
   "metadata": {
    "latex": {
     "environment": "key_terms"
    }
   },
   "source": [
    "NumPy\n",
    "\n",
    "array\n",
    "\n",
    "scalar\n",
    "\n",
    "computationally expensive\n",
    "\n",
    "slice\n",
    "\n",
    "index\n",
    "\n",
    "datatype\n",
    "\n",
    "homogeneous\n",
    "\n",
    "homogeneous data type\n",
    "\n",
    "heterogeneous data type\n",
    "\n",
    "NumPy\n",
    "\n",
    "array\n",
    "\n",
    "scalar\n",
    "\n",
    "computationally expensive\n",
    "\n",
    "slice\n",
    "\n",
    "index\n",
    "\n",
    "datatype\n",
    "\n",
    "homogeneous\n",
    "\n",
    "homogeneous data type\n",
    "\n",
    "heterogeneous data type\n",
    "\n",
    "element-wise\n",
    "\n",
    "system of linear equations\n",
    "\n",
    "attribute\n",
    "\n",
    "scientific computing\n",
    "\n",
    "Unicode\n",
    "\n",
    "iterable\n",
    "\n",
    "logarithmically spaced numbers\n",
    "\n",
    "normal distribution\n",
    "\n",
    "meshgrid\n",
    "\n",
    "matrix multiplication methods\n",
    "\n",
    "dot product\n",
    "\n",
    "cross product\n",
    "\n",
    "element-wise\n",
    "\n",
    "system of linear equations\n",
    "\n",
    "attribute\n",
    "\n",
    "scientific computing\n",
    "\n",
    "Unicode\n",
    "\n",
    "iterable\n",
    "\n",
    "logarithmically spaced numbers\n",
    "\n",
    "normal distribution\n",
    "\n",
    "meshgrid\n",
    "\n",
    "matrix multiplication methods\n",
    "\n",
    "dot product\n",
    "\n",
    "cross product\n"
   ]
  },
  {
   "cell_type": "markdown",
   "metadata": {},
   "source": [
    "### Summary of NumPy Functions"
   ]
  },
  {
   "cell_type": "markdown",
   "metadata": {},
   "source": [
    "#### NumPy Array Creation Functions\n",
    "\n",
    "| NumPy Function | Description |\n",
    "| --- | --- |\n",
    "| ```np.array()``` | array from a list |\n",
    "| ```np.arange()``` | array from start, stop, step |\n",
    "| ```np.linspace()``` | array of linearly spaced numbers |\n",
    "| ```np.logspace()``` | array of logarythmically spaced numbers |\n",
    "| ```np.zeros()``` | array of all zeros |\n",
    "| ```np.ones()``` | array of all ones |\n",
    "\n",
    "#### NumPy 2D Array Creation Functions\n",
    "\n",
    "| NumPy Function | Description |\n",
    "| --- | --- |\n",
    "| ```np.meshgrid()``` | 2D array from two 1D arrays |\n",
    "| ```np.mgrid[]``` | meshgrid with a MATLAB-like syntax |\n",
    "\n",
    "#### NumPy Arrays of Random Numbers\n",
    "\n",
    "| NumPy Function | Description |\n",
    "| --- | --- |\n",
    "| ```np.random.randint()``` | array of random integers |\n",
    "| ```np.random.rand()``` | array of random floats |\n",
    "| ```np.random.choice()``` | random array chosen from list or array |\n",
    "| ```np.random.randn()``` | array of numbers with a normal distribution |\n",
    "\n",
    "#### NumPy Array Mathematical Functions\n",
    "\n",
    "| NumPy Function | Description |\n",
    "| --- | --- |\n",
    "| ```array1 + array2``` | element-wise addition |\n",
    "| ```array1 - array2``` | element-wise subtraction |\n",
    "| ```array1 * array2``` | element-wise multiplication |\n",
    "| ```array1 / array2``` | element-wise division |\n",
    "| ```scalar * array``` | element-wise scalar multiplication |\n",
    "| ```np.dot()``` | dot product |\n",
    "| ```np.cross()``` | cross product |\n",
    "| ```np.exp()``` | $e^x$ exponentiation |\n",
    "| ```np.log()``` | natural logarithm |\n",
    "| ```np.log2()``` | logarithm base 2 |\n",
    "| ```np.log10()``` | logarithm base 10 |\n",
    "| ```np.sin()``` | sine |\n",
    "| ```np.cos()``` | cosine |\n",
    "| ```np.tan()``` | tangent |\n",
    "| ```np.arcsin()``` | arc sine |\n",
    "| ```np.arccos()``` | arc cosine |\n",
    "| ```np.arctan()``` | arc tangent |\n",
    "| ```np.rad2deg()``` | radians to degrees |\n",
    "| ```np.deg2rad()``` | degrees to radians |\n",
    "| ```np.hypot()``` | hypotenuse given sides or a right trangle |\n",
    "| ```np.linalg.solve()``` | solve a system of linear equations |\n"
   ]
  }
 ],
 "metadata": {
  "celltoolbar": "Edit Metadata",
  "kernelspec": {
   "display_name": "Python 3",
   "language": "python",
   "name": "python3"
  },
  "language_info": {
   "codemirror_mode": {
    "name": "ipython",
    "version": 3
   },
   "file_extension": ".py",
   "mimetype": "text/x-python",
   "name": "python",
   "nbconvert_exporter": "python",
   "pygments_lexer": "ipython3",
   "version": "3.8.3"
  }
 },
 "nbformat": 4,
 "nbformat_minor": 2
}
