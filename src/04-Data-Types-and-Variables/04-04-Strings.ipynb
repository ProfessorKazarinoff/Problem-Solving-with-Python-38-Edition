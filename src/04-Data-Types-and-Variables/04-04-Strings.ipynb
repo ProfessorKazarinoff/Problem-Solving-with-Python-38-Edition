{
 "cells": [
  {
   "cell_type": "markdown",
   "metadata": {},
   "source": [
    "## Strings"
   ]
  },
  {
   "cell_type": "markdown",
   "metadata": {},
   "source": [
    "Another built-in Python data type is _strings_. Strings are sequences of letters, numbers, symbols, and spaces. In Python, strings can be almost any length and can contain spaces. Strings are assigned in Python using single quotation marks ```'   '``` or double quotation marks ```\" \"```."
   ]
  },
  {
   "cell_type": "markdown",
   "metadata": {
    "latex": {
     "environment": "info_box"
    }
   },
   "source": [
    "<div class=\"alert alert-info\" role=\"alert\">\n",
    "Python strings can contain blank spaces. A blank space is a valid character in a Python string.\n",
    "</div>"
   ]
  },
  {
   "cell_type": "markdown",
   "metadata": {},
   "source": [
    "```python\n",
    ">>> string = 'z'\n",
    ">>>> type(string)\n",
    "<class 'str'>\n",
    "\n",
    ">>> string = \"Engineers\"\n",
    ">>> type(string)\n",
    "<class 'str'>\n",
    "```\n",
    "\n",
    "The output ```<class 'str'>``` indicates the variable is a string."
   ]
  },
  {
   "cell_type": "markdown",
   "metadata": {},
   "source": [
    "### Numbers as Strings\n",
    "\n",
    "Numbers and decimals can be defined as strings too. If a decimal number is defined using quotes ```'   '```, the number is saved as a string rather than as a float. Integers defined using quotes become strings as well.\n",
    "\n",
    "```python\n",
    ">>> num = '5.2'\n",
    ">>> type(num)\n",
    "<class 'str'>\n",
    "\n",
    ">>> num = '2'\n",
    ">>> type(num)\n",
    "<class 'str'>\n",
    "```\n"
   ]
  },
  {
   "cell_type": "markdown",
   "metadata": {},
   "source": [
    "### Strings as Boolean Values\n",
    "\n",
    "Strings can be converted to boolean values (converted to True or False). The empty string ```\"\"``` returns as ```False```. All other strings convert to ```True```. \n",
    "\n",
    "```python\n",
    ">>> name = \"Maelle\"\n",
    ">>> bool(name)\n",
    "True\n",
    "```\n",
    "\n",
    "```python\n",
    ">>> empty = \"\"\n",
    ">>> bool(empty)\n",
    "False\n",
    "```\n",
    "\n",
    "Note, a string that contains just one space (```\"  \"```) is not empty. It contains the space character. Therefore a string made up of just one space converts to ```True```.\n",
    "\n",
    "```python\n",
    ">>> space = \"  \"\n",
    ">>> bool(space)\n",
    "True\n",
    "```\n"
   ]
  },
  {
   "cell_type": "markdown",
   "metadata": {},
   "source": [
    "### String Indexing\n",
    "\n",
    "String _indexing_ is the process of pulling out specific characters from a string in a particular order. In Python, strings are indexed using square brackets ```[ ]```. An important point to remember:"
   ]
  },
  {
   "cell_type": "markdown",
   "metadata": {
    "latex": {
     "environment": "info_box"
    }
   },
   "source": [
    "<div class=\"alert alert-info\" role=\"alert\">\n",
    "    <b>Python counting starts at 0 and ends at n-1</b>\n",
    "</div>"
   ]
  },
  {
   "cell_type": "markdown",
   "metadata": {},
   "source": [
    "Consider the word below.\n",
    "\n",
    "```text\n",
    "Solution\n",
    "```\n",
    "\n",
    "The letter ```S``` is at index zero, the letter ```o``` is at index one. The last letter of the word ```Solution``` is ```n```. ```n``` is in the seventh index. Even though the word ```Solution``` has eight letters, the last letter is in the seventh index. This is because Python indexing starts at ```0``` and ends at ```n-1```.\n",
    "\n",
    "![String index assignments](images/string_indexing.png)"
   ]
  },
  {
   "cell_type": "markdown",
   "metadata": {},
   "source": [
    "```python\n",
    ">>> word = 'Solution'\n",
    ">>> word[0]\n",
    "'S'\n",
    "```\n"
   ]
  },
  {
   "cell_type": "markdown",
   "metadata": {},
   "source": [
    "```python\n",
    ">>> word[1]\n",
    "'o'\n",
    "```\n"
   ]
  },
  {
   "cell_type": "markdown",
   "metadata": {},
   "source": [
    "```python\n",
    ">>> word[7]\n",
    "'n'\n",
    "```\n"
   ]
  },
  {
   "cell_type": "markdown",
   "metadata": {},
   "source": [
    "If the eighth index of the word ```Solution``` is called, an error is returned.\n",
    "\n",
    "```python\n",
    ">>> word[8]\n",
    "\n",
    "IndexError: string index out of range\n",
    "```\n"
   ]
  },
  {
   "cell_type": "markdown",
   "metadata": {},
   "source": [
    "#### Negative Indexing\n",
    "\n",
    "_Negative indexes_ start from the last character in a string and count down to the first character in a string.\n",
    "\n",
    "Place a negative number inside of the square brackets to pull a character out of a string starting from the end of the string.\n",
    "\n",
    "```python\n",
    ">>> word[-1]\n",
    "'n'\n",
    "```\n",
    "\n",
    "```python\n",
    ">>> word[-2]\n",
    "'o'\n",
    "```\n",
    "\n",
    "![Negative string index assignments](images/reverse_string_indexing.png)\n"
   ]
  },
  {
   "cell_type": "markdown",
   "metadata": {},
   "source": [
    "### String Slicing\n",
    "\n",
    "String _slicing_ is an operation to pull out a sequence of characters from a string. In Python, a colon on the inside of the square brackets between two numbers in a slicing operation indicates _through_. If the index ```[0:3]``` is called, the characters at positions ```0``` through ```3``` are returned.\n",
    "\n",
    "Remember Python counting starts at ```0``` and ends at ```n-1```. So ```[0:3]``` indicates the first through third letters, which are indexes ```0``` to ```2```.\n",
    "\n",
    "```python\n",
    ">>> word[0:3]\n",
    "'Sol'\n",
    "```\n"
   ]
  },
  {
   "cell_type": "markdown",
   "metadata": {},
   "source": [
    "A colon by itself on the inside of square brackets indicates _all_.\n",
    "\n",
    "```python\n",
    ">>> word[:]\n",
    "'Solution'\n",
    "```\n"
   ]
  },
  {
   "cell_type": "markdown",
   "metadata": {},
   "source": [
    "When three numbers are separated by two colons inside of square brackets, the numbers represent _start_ : _stop_ : _step_. Remember that Python counting starts at ```0``` and ends at ```n-1```. \n",
    "\n",
    "```python\n",
    ">>> word[0:7:2]  #start:stop:step\n",
    "'Slto'\n",
    "```\n"
   ]
  },
  {
   "cell_type": "markdown",
   "metadata": {},
   "source": [
    "When two colons are used inside of square brackets, and less than three numbers are specified, the missing numbers are set to their \"defaults\". The default start is ```0```, the default stop is ```n-1```, and the default step is ```1```. \n",
    "\n",
    "The two code lines below produce the same output since ```0``` is the default start and ```7``` (n-1) is the default stop. Both lines of code use a step of ```2```.\n",
    "\n",
    "```python\n",
    ">>> word[0:7:2]\n",
    "'Slto'\n",
    "```\n",
    "\n",
    "```python\n",
    ">>> word[::2]\n",
    "'Slto'\n",
    "```\n"
   ]
  },
  {
   "cell_type": "markdown",
   "metadata": {},
   "source": [
    "#### Reversing a String\n",
    "\n",
    "The characters that make up a string can be reversed by using the default start and stop values and specifying a step of ```-1```.\n",
    "\n",
    "```python\n",
    ">>> word[::-1]\n",
    "'noituloS'\n",
    "```\n"
   ]
  }
 ],
 "metadata": {
  "celltoolbar": "Edit Metadata",
  "kernelspec": {
   "display_name": "Python 3",
   "language": "python",
   "name": "python3"
  },
  "language_info": {
   "codemirror_mode": {
    "name": "ipython",
    "version": 3
   },
   "file_extension": ".py",
   "mimetype": "text/x-python",
   "name": "python",
   "nbconvert_exporter": "python",
   "pygments_lexer": "ipython3",
   "version": "3.8.3"
  }
 },
 "nbformat": 4,
 "nbformat_minor": 2
}
