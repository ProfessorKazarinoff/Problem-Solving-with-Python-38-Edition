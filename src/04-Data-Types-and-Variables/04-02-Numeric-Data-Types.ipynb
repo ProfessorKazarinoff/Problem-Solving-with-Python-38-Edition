{
 "cells": [
  {
   "cell_type": "markdown",
   "metadata": {},
   "source": [
    "## Numeric Data Types"
   ]
  },
  {
   "cell_type": "markdown",
   "metadata": {},
   "source": [
    "Python has many useful built-in _data types_. Python variables can store different types of data based on a variable's data type. A variable's data type is created dynamically, without the need to explicitly define a data type when the variable is created.\n",
    "\n",
    "It is useful for problem solvers to understand a couple of Python's core data types to write well-constructed code."
   ]
  },
  {
   "cell_type": "markdown",
   "metadata": {},
   "source": [
    "### A review of variable assignment in Python\n",
    "\n",
    "Recall from the previous chapter that variables in Python are defined with the assignment operator, the equals sign ```=```.  To define a variable in Python, the variable name is written first, then the assignment operator ```=``` followed by a value or expression.\n",
    "\n",
    "The general syntax to assign a value to variable name is below:\n",
    "\n",
    "```text\n",
    "variable_name = value\n",
    "```\n",
    "\n",
    "Variable names in Python must adhere to the following rules:\n",
    "\n",
    " * variable names must start with a letter\n",
    " * variable names can only contain letters, numbers and the underscore character ```_```\n",
    " * variable names can not contain spaces or punctuation\n",
    " * variable names are not enclosed in quotes or brackets\n",
    "\n",
    "\n",
    "Below is a discussion of a few different built-in data types in Python."
   ]
  },
  {
   "cell_type": "markdown",
   "metadata": {},
   "source": [
    "### Integers\n",
    "\n",
    "_Integers_ are one of the Python data types. An integer is a whole number, negative, positive or zero. In Python, integer variables are defined by assigning a whole number to a variable. Python's ```type()``` function can be used to determine the data type of a variable.\n",
    "\n",
    "```python\n",
    ">>> a = 5\n",
    ">>> type(a)\n",
    "<class 'int'>\n",
    "```\n",
    "\n",
    "The output ```<class 'int'>``` indicates the variable ```a``` is an integer. Integers can be negative or zero.\n",
    "\n",
    "```python\n",
    ">>> b = -2\n",
    ">>> type(b)\n",
    "<class 'int'>\n",
    ">>> z = 0\n",
    ">>> type(z)\n",
    "<class 'int'>\n",
    "```\n"
   ]
  },
  {
   "cell_type": "markdown",
   "metadata": {},
   "source": [
    "### Floating Point Numbers\n",
    "\n",
    "Floating point numbers or _floats_ are another numeric data type. Floats are decimals, positive, negative, and zero. Floats can also be represented by numbers in scientific notation which contain exponents.\n",
    "\n",
    "Both a lower case ```e``` or an upper case ```E``` can be used to define floats in scientific notation. In Python, a float can be defined using a decimal point ```.``` when a variable is assigned.\n",
    "\n",
    "```python\n",
    ">>> c = 6.2\n",
    ">>> type(c)\n",
    "<class 'float'>\n",
    ">>> d = -0.03\n",
    ">>> type(d)\n",
    "<class 'float'>\n",
    ">>> Na = 6.02e23\n",
    ">>> Na\n",
    "6.02e+23\n",
    ">>> type(Na)\n",
    "<class 'float'>\n",
    "```\n",
    "\n",
    "To define a variable as a float instead of an integer, even if the variable is assigned a whole number, a trailing decimal point ```.``` is used. Note the difference when a decimal point ```.``` comes after a whole number:\n",
    "\n",
    "```python\n",
    ">>> g = 5\n",
    ">>> type(g)\n",
    "<class 'int'>\n",
    ">>> f = 5.\n",
    ">>> type(r)\n",
    "<class 'float'>\n",
    "```\n"
   ]
  },
  {
   "cell_type": "markdown",
   "metadata": {},
   "source": [
    "### Complex Numbers\n",
    "\n",
    "Another useful numeric data type for problem solvers is the _complex number_ data type. A complex number is defined in Python using a real component ```+``` an imaginary component ```j```. The letter ```j``` must be used to denote the imaginary component. Using the letter ```i``` to define a complex number returns an error in Python.\n",
    "\n",
    "```python\n",
    ">>> comp = 4 + 2j\n",
    ">>> type(comp)\n",
    "<class 'complex'>\n",
    "\n",
    ">>> comp2 = 4 + 2i\n",
    "              ^\n",
    "SyntaxError: invalid syntax\n",
    "```\n",
    "\n",
    "Imaginary numbers can be added to integers and floats.\n",
    "\n",
    "```python\n",
    ">>> intgr = 3\n",
    ">>> type(intgr)\n",
    "<class 'int'>\n",
    "\n",
    ">>> comp_sum = comp + intgr\n",
    ">>> print(comp_sum)\n",
    "(7+2j)\n",
    "\n",
    ">>> flt = 2.1\n",
    ">>> comp_sum = comp + flt\n",
    ">>> print(comp_sum)\n",
    "(6.1+2j)\n",
    "```\n"
   ]
  }
 ],
 "metadata": {
  "celltoolbar": "Edit Metadata",
  "kernelspec": {
   "display_name": "Python 3",
   "language": "python",
   "name": "python3"
  },
  "language_info": {
   "codemirror_mode": {
    "name": "ipython",
    "version": 3
   },
   "file_extension": ".py",
   "mimetype": "text/x-python",
   "name": "python",
   "nbconvert_exporter": "python",
   "pygments_lexer": "ipython3",
   "version": "3.8.3"
  }
 },
 "nbformat": 4,
 "nbformat_minor": 2
}
