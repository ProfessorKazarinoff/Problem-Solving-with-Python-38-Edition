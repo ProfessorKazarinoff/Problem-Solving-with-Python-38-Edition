{
 "cells": [
  {
   "cell_type": "markdown",
   "metadata": {},
   "source": [
    "# Data Types and Variables"
   ]
  },
  {
   "cell_type": "markdown",
   "metadata": {},
   "source": [
    "## Introduction"
   ]
  },
  {
   "cell_type": "markdown",
   "metadata": {
    "latex": {
     "after_cell": "newpage"
    }
   },
   "source": [
    "This chapter is about Python data types and variables. Python has many built-in data types such as integers, floats, booleans, strings, and lists. \n",
    "\n",
    "By the end of this chapter you will be able to:\n",
    "\n",
    " * Explain the difference between Python's built-in data types\n",
    " \n",
    " * Define variables with the assignment operator ```=```\n",
    " \n",
    " * Create variables with different data types\n",
    "\n",
    " * Use Python's ```type()``` function to determine an object's data type\n",
    " \n",
    " * Compare variables with the comparison operator ```==```\n",
    " \n",
    " * Convert variables from one data type to another\n",
    " \n",
    " * Work with integers, floats and complex numbers\n",
    " \n",
    " * Understand the boolean data type\n",
    " \n",
    " * Create and modify lists, dictionaries, and tuples\n",
    " \n",
    " * Index and slice strings, lists, and tuples\n"
   ]
  }
 ],
 "metadata": {
  "celltoolbar": "Edit Metadata",
  "kernelspec": {
   "display_name": "Python 3",
   "language": "python",
   "name": "python3"
  },
  "language_info": {
   "codemirror_mode": {
    "name": "ipython",
    "version": 3
   },
   "file_extension": ".py",
   "mimetype": "text/x-python",
   "name": "python",
   "nbconvert_exporter": "python",
   "pygments_lexer": "ipython3",
   "version": "3.8.3"
  }
 },
 "nbformat": 4,
 "nbformat_minor": 2
}
