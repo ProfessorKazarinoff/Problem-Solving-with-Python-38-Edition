{
 "cells": [
  {
   "cell_type": "markdown",
   "metadata": {},
   "source": [
    "## Dictionaries and Tuples"
   ]
  },
  {
   "cell_type": "markdown",
   "metadata": {},
   "source": [
    "Besides lists, Python has two additional data structures that can store multiple objects. These data structures are _dictionaries_ and _tuples_. Tuples will be discussed first."
   ]
  },
  {
   "cell_type": "markdown",
   "metadata": {},
   "source": [
    "### Tuples"
   ]
  },
  {
   "cell_type": "markdown",
   "metadata": {},
   "source": [
    "Tuples are _immutable_ lists. Elements of a list can be modified, but elements in a tuple can only be _accessed_, not _modified_. The name _tuple_ does not mean that only two values can be stored in this data structure.\n",
    "\n",
    "Tuples are defined in Python by enclosing elements in parenthesis ```( )``` separated by commas. The command below creates a tuple containing the numbers ```3```, ```4```, and ```5```.\n",
    "\n",
    "\n",
    "```python\n",
    ">>> t_var = (3,4,5)\n",
    ">>> t_var\n",
    "(3, 4, 5)\n",
    "```\n",
    "\n",
    "Note how the elements of a list can be modified: \n",
    "\n",
    "```python\n",
    ">>> l_var = [3,4,5]  # a list\n",
    ">>> l_var[0]= 8\n",
    ">>> l_var\n",
    "[8, 4, 5]\n",
    "```\n",
    "\n",
    "The elements of a tuple can not be modified. If you try to assign a new value to one of the elements in a tuple, an error is returned.\n",
    "\n",
    "```python\n",
    ">>> t_var = (3,4,5)  # a tuple\n",
    ">>> t_var[0]= 8\n",
    ">>> t_var\n",
    "\n",
    "TypeError: 'tuple' object does not support item assignment\n",
    "```\n",
    "\n",
    "To create a tuple that just contains one numerical value, the number must be followed by a comma. Without a comma, the variable is defined as a number.\n",
    "\n",
    "```python\n",
    ">>> num = (5)\n",
    ">>> type(num)\n",
    "int\n",
    "```\n",
    "\n",
    "When a comma is included after the number, the variable is defined as a tuple.\n",
    "\n",
    "```python\n",
    ">>> t_var = (5,)\n",
    ">>> type(t_var)\n",
    "tuple\n",
    "```\n"
   ]
  },
  {
   "cell_type": "markdown",
   "metadata": {},
   "source": [
    "#### Tuple indexing and slicing\n",
    "\n",
    "Just like strings and lists, tuples can be indexed and sliced. The code section below creates a tuple with 3 elements and uses indexing and slicing to certain elements out.\n",
    "\n",
    "Note that you can index _out_ of a tuple, but you can't index _into_ a tuple. This is because tuples are an immutable data structure.\n",
    "\n",
    "```python\n",
    ">>> t = ('red','green','blue')\n",
    ">>> t[2]\n",
    "'blue'\n",
    "```\n",
    "\n",
    "```python\n",
    ">>> t = ('civil','mechanical','electrical')\n",
    ">>> t[1:3]\n",
    "('mechanical', 'electrical')\n",
    "```\n"
   ]
  },
  {
   "cell_type": "markdown",
   "metadata": {},
   "source": [
    "### Dictionaries"
   ]
  },
  {
   "cell_type": "markdown",
   "metadata": {},
   "source": [
    "\n",
    "Dictionaries are made up of key: value pairs. In Python, lists and tuples are organized and accessed based on _position_. Dictionaries in Python are organized and accessed using _keys_ and _values_. The location of a pair of keys and values stored in a Python dictionary is irrelevant.\n",
    "Dictionaries are defined in Python with curly braces ```{ }```. Commas separate the key-value pairs that make up the dictionary. Each key-value pair is related by a colon ```:```.\n",
    "\n",
    "```\n",
    "dict_name = {key1: value1, key2: value2}\n",
    "```\n",
    "\n",
    "Let's store the ages of two people in a dictionary. The two people are ```Gabby``` and ```Maelle```. ```Gabby``` is ```10``` and ```Maelle``` is ```7```. Note the name ```Gabby``` is a string and the age ```10``` is an integer.\n",
    "\n",
    "```python\n",
    ">>> age_dict = {\"Gabby\": 10 , \"Maelle\": 7}\n",
    ">>> type(age_dict)\n",
    "dict\n",
    "```\n",
    "\n",
    "The values stored in a dictionary are called and assigned using the following syntax:\n",
    "\n",
    "```python\n",
    "dict_name[key] = value\n",
    "```\n",
    "\n",
    "```python\n",
    ">>> age_dict = {\"Gabby\": 10, \"Maelle\": 7}\n",
    ">>> age_dict[\"Maelle\"]\n",
    "7\n",
    "```\n",
    "\n",
    "We can add a new person to our ```age_dict``` with the following command:\n",
    "\n",
    "```python\n",
    ">>> age_dict = {\"Gabby\": 10 , \"Maelle\": 7}\n",
    "\n",
    ">>> age_dict[\"Peter\"]= 42\n",
    ">>> age_dict\n",
    "{'Gabby': 10, 'Maelle': 7, 'Peter': 42}\n",
    "```\n",
    "\n",
    "Dictionaries can be converted to lists by calling the ```.items()```, ```.keys()```, and ```.values()``` methods. \n",
    "\n",
    "```python\n",
    ">>> age_dict = {\"Gabby\": 10 , \"Maelle\": 7}\n",
    "\n",
    ">>> whole_list = list(age_dict.items())\n",
    ">>> whole_list\n",
    "[('Gabby', 10), ('Maelle', 7)]\n",
    "\n",
    ">>> name_list = list(age_dict.keys())\n",
    ">>> name_list\n",
    "['Gabby', 'Maelle']\n",
    "\n",
    ">>> age_list = list(age_dict.values())\n",
    ">>> age_list\n",
    "[10, 7]\n",
    "```\n",
    "\n",
    "Items can be removed from a dictionary by calling the ```.pop()``` method. The dictionary key (and that key's associated value) supplied to the ```.pop()``` method is removed from the dictionary.\n",
    "\n",
    "```python\n",
    ">>> age_dict = {\"Gabby\": 10, \"Maelle\": 7}\n",
    ">>> age_dict.pop(\"Gabby\")\n",
    ">>> age_dict\n",
    "{'Maelle': 7}\n",
    "```\n"
   ]
  }
 ],
 "metadata": {
  "celltoolbar": "Edit Metadata",
  "kernelspec": {
   "display_name": "Python 3",
   "language": "python",
   "name": "python3"
  },
  "language_info": {
   "codemirror_mode": {
    "name": "ipython",
    "version": 3
   },
   "file_extension": ".py",
   "mimetype": "text/x-python",
   "name": "python",
   "nbconvert_exporter": "python",
   "pygments_lexer": "ipython3",
   "version": "3.8.3"
  }
 },
 "nbformat": 4,
 "nbformat_minor": 2
}
