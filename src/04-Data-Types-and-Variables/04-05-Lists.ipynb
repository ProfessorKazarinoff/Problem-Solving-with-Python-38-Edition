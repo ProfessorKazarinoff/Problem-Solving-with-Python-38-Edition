{
 "cells": [
  {
   "cell_type": "markdown",
   "metadata": {},
   "source": [
    "## Lists"
   ]
  },
  {
   "cell_type": "markdown",
   "metadata": {},
   "source": [
    "A list is a data structure in Python that can contain multiple elements of any of the other data types. A list is defined with square brackets ```[ ]``` and commas ``` , ``` between elements.\n",
    "\n",
    "```python\n",
    ">>> lst = [ 1, 2, 3 ]\n",
    ">>> type(lst)\n",
    "list\n",
    "\n",
    ">>> lst = [ 1, 5.3, '3rd_Element']\n",
    ">>> type(lst)\n",
    "list\n",
    "```\n"
   ]
  },
  {
   "cell_type": "markdown",
   "metadata": {},
   "source": [
    "### Indexing Lists\n",
    "\n",
    "Individual elements of a list can be accessed or _indexed_ using bracket ```[ ]``` notation. Note that Python lists start with the index zero, not the index 1. For example:\n",
    "\n",
    "```python\n",
    ">>> lst = ['statics', 'strengths', 'dynamics']\n",
    ">>> lst[0]\n",
    "'statics'\n",
    "\n",
    ">>> lst[1]\n",
    "'strengths'\n",
    "\n",
    ">>> lst[2]\n",
    "'dynamics'\n",
    "```\n"
   ]
  },
  {
   "cell_type": "markdown",
   "metadata": {
    "latex": {
     "environment": "alert-info"
    }
   },
   "source": [
    "<div class=\"alert alert-info\">\n",
    "<strong>Remember!</strong> Python lists start indexing at [0] not at [1]. To call the elements in a list with 3 values use: lst[0], lst[1], lst[2].\n",
    "</div>"
   ]
  },
  {
   "cell_type": "markdown",
   "metadata": {},
   "source": [
    "### Slicing Lists\n",
    "\n",
    "List _slicing_ is an operation used to pull out a sequence of objects from a list. In Python, the syntax of list slicing is similar to the syntax of string slicing shown in a previous section.\n",
    "\n",
    "Colons ``` : ``` are used inside the square brackets to denote _all_\n",
    "\n",
    "```python\n",
    ">>> lst = [2, 4, 6]\n",
    ">>> lst[:]\n",
    "[2, 4, 6]\n",
    "```\n",
    "\n",
    "Negative numbers can be used as indexes to call the last number of elements in the list\n",
    "\n",
    "```python\n",
    ">>> lst = [2, 4, 6]\n",
    ">>> lst[-1]\n",
    "6\n",
    "```\n",
    "\n",
    "The colon operator can also be used to denote _all up to_ and _thru end_.\n",
    "\n",
    "```python\n",
    ">>> lst = [2, 4, 6]\n",
    ">>> lst[:2]         # all up to 2\n",
    "[2, 4]\n",
    "```\n",
    "\n",
    "\n",
    "```python\n",
    ">>> lst = [2, 4, 6]\n",
    ">>> lst[2:]         # 2 thru end\n",
    "[6]\n",
    "```\n",
    "\n",
    "The colon operator can also be used to denote _start : end + 1_. Note that indexing here is not inclusive. ```lst[1:3]``` returns the 2nd element, and 3rd element but not the fourth element even though ```3``` is used in the index."
   ]
  },
  {
   "cell_type": "markdown",
   "metadata": {
    "latex": {
     "environment": "alert-info"
    }
   },
   "source": [
    "<div class=\"alert alert-info\">\n",
    "<strong>Remember!</strong> Python indexing is not inclusive. The last element called in an index will not be returned.\n",
    "</div>\n"
   ]
  }
 ],
 "metadata": {
  "celltoolbar": "Edit Metadata",
  "kernelspec": {
   "display_name": "Python 3",
   "language": "python",
   "name": "python3"
  },
  "language_info": {
   "codemirror_mode": {
    "name": "ipython",
    "version": 3
   },
   "file_extension": ".py",
   "mimetype": "text/x-python",
   "name": "python",
   "nbconvert_exporter": "python",
   "pygments_lexer": "ipython3",
   "version": "3.8.3"
  }
 },
 "nbformat": 4,
 "nbformat_minor": 2
}
