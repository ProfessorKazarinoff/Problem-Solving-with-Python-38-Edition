{
 "cells": [
  {
   "cell_type": "markdown",
   "metadata": {},
   "source": [
    "## String Operations"
   ]
  },
  {
   "cell_type": "markdown",
   "metadata": {},
   "source": [
    "Strings are sequences of letters, numbers, punctuation, and spaces. Strings are defined at the Python REPL by enclosing letters, numbers, punctuation, and spaces in single quotes ```' '``` or double quotes ```\" \"```. \n",
    "\n",
    "```python\n",
    ">>> word = \"Solution\"\n",
    ">>> another_word = \"another solution\"\n",
    ">>> third_word = \"3rd solution!\"\n",
    "```\n",
    "\n",
    "In Python, string operations include concatenation (combining strings), logical comparisons (comparing strings) and indexing (pulling specific characters out of strings)."
   ]
  },
  {
   "cell_type": "markdown",
   "metadata": {},
   "source": [
    "### String Concatenation"
   ]
  },
  {
   "cell_type": "markdown",
   "metadata": {},
   "source": [
    "Strings can be _concatenated_ or combined using the ```+``` operator.\n",
    "\n",
    "```python\n",
    ">>> word = \"Solution\"\n",
    ">>> another_word = \"another solution\"\n",
    ">>> third_word = \"3rd solution!\"\n",
    ">>> all_words = word+another_word+third_word\n",
    ">>> all_words\n",
    "'Solutionanother solution3rd solution!'\n",
    "```\n",
    "\n",
    "To include spaces in the concatenated string, add a string which just contains one space ```\" \"``` in between each string you combine.\n",
    "\n",
    "```python\n",
    ">>> word = \"Solution\"\n",
    ">>> another_word = \"another solution\"\n",
    ">>> third_word = \"3rd solution!\"\n",
    ">>> all_words = word + \" \" + another_word + \" \" + third_word\n",
    ">>> all_words\n",
    "'Solution another solution 3rd solution!'\n",
    "```"
   ]
  },
  {
   "cell_type": "markdown",
   "metadata": {},
   "source": [
    "### String Comparison"
   ]
  },
  {
   "cell_type": "markdown",
   "metadata": {},
   "source": [
    "Strings can be compared using the comparison operator; the double equals sign ```==```. Note the comparison operator (double equals ```==```) is not the same as the assignment operator, a single equals sign ```=```.\n",
    "\n",
    "```python\n",
    ">>> name1 = 'Gabby'\n",
    ">>> name2 = 'Gabby'\n",
    ">>> name1 == name2\n",
    "True\n",
    "```\n",
    "\n",
    "```python\n",
    ">>> name1 = 'Gabby'\n",
    ">>> name2 = 'Maelle'\n",
    ">>> name1 == name2\n",
    "False\n",
    "```\n",
    "\n",
    "Capital letters and lower case letters are different characters in Python. A string with the same letters, but different capitalization are not equivalent.\n",
    "\n",
    "```python\n",
    ">>> name1 = 'Maelle'\n",
    ">>> name2 = 'maelle'\n",
    ">>> name1 == name2\n",
    "False\n",
    "```\n"
   ]
  }
 ],
 "metadata": {
  "kernelspec": {
   "display_name": "Python 3",
   "language": "python",
   "name": "python3"
  },
  "language_info": {
   "codemirror_mode": {
    "name": "ipython",
    "version": 3
   },
   "file_extension": ".py",
   "mimetype": "text/x-python",
   "name": "python",
   "nbconvert_exporter": "python",
   "pygments_lexer": "ipython3",
   "version": "3.8.3"
  }
 },
 "nbformat": 4,
 "nbformat_minor": 2
}
