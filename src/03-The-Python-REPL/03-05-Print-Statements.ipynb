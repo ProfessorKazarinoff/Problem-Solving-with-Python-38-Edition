{
 "cells": [
  {
   "cell_type": "markdown",
   "metadata": {},
   "source": [
    "## Print Statements"
   ]
  },
  {
   "cell_type": "markdown",
   "metadata": {},
   "source": [
    "One built-in function in Python is ```print()```. The value or expression inside of the parenthesis of a ```print()``` function \"prints\" out to the REPL when the ```print()``` function is called. \n",
    "\n",
    "An example using the ```print()``` function is below:\n",
    "\n",
    "```python\n",
    ">>> name = \"Maelle\"\n",
    ">>> print(\"Your name is: \")\n",
    "Your name is: \n",
    ">>> print(name)\n",
    "Maelle\n",
    "```\n",
    "\n",
    "Remember that strings must be enclosed by quotation marks. The following command produces an error.\n",
    "\n",
    "```python\n",
    ">>> print(Maelle)\n",
    "\n",
    "NameError: name 'Maelle' is not defined\n",
    "```\n",
    "\n",
    "This error is corrected by surrounding the string ```Maelle``` with quotation marks.\n",
    "\n",
    "```python\n",
    ">>> print(\"Maelle\")\n",
    "Maelle\n",
    "```\n"
   ]
  },
  {
   "cell_type": "markdown",
   "metadata": {},
   "source": [
    "Expressions passed to the ```print()``` function are evaluated before they are printed out. For instance, the sum of two numbers can be shown with the ```print()``` function.\n",
    "\n",
    "```python\n",
    ">>> print(1+2)\n",
    "3\n",
    "```\n",
    "\n",
    "If you want to see the text ```1+2```, you need to define ```\"1+2\"``` as a string and print out the string ```\"1+2\"``` instead.\n",
    "\n",
    "```python\n",
    ">>> print(\"1+2\")\n",
    "1+2\n",
    "```\n"
   ]
  },
  {
   "cell_type": "markdown",
   "metadata": {},
   "source": [
    "Strings can be concatenated (combined) inside of a ```print()``` statement.\n",
    "\n",
    "```python\n",
    ">>> name = Maelle\n",
    ">>> print(\"Your name is: \" + name)\n",
    "Your name is Maelle\n",
    "```"
   ]
  },
  {
   "cell_type": "markdown",
   "metadata": {},
   "source": [
    "The ```print()``` function also prints out individual expressions one after another with a space in between when the expressions are placed inside the ```print()``` function and separated by a comma.\n",
    "\n",
    "```python\n",
    ">>> print(\"Name:\",\"Maelle\",\"Age\", 2+5)\n",
    "Name: Maelle Age 7\n",
    "```\n"
   ]
  }
 ],
 "metadata": {
  "kernelspec": {
   "display_name": "Python 3",
   "language": "python",
   "name": "python3"
  },
  "language_info": {
   "codemirror_mode": {
    "name": "ipython",
    "version": 3
   },
   "file_extension": ".py",
   "mimetype": "text/x-python",
   "name": "python",
   "nbconvert_exporter": "python",
   "pygments_lexer": "ipython3",
   "version": "3.8.3"
  }
 },
 "nbformat": 4,
 "nbformat_minor": 2
}
