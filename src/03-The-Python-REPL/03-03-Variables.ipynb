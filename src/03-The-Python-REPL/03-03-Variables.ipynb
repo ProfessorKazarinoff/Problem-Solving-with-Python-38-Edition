{
 "cells": [
  {
   "cell_type": "markdown",
   "metadata": {},
   "source": [
    "## Variables"
   ]
  },
  {
   "cell_type": "markdown",
   "metadata": {},
   "source": [
    "Variables are assigned in Python using the ```=``` equals sign also called the _assignment operator_. The statement:\n",
    "\n",
    "```python\n",
    "a = 2\n",
    "```\n",
    "\n",
    "Assigns the integer ```2``` to the variable ```a```.\n"
   ]
  },
  {
   "cell_type": "markdown",
   "metadata": {},
   "source": [
    "```python\n",
    ">>> a = 2\n",
    ">>> a\n",
    "2\n",
    "```"
   ]
  },
  {
   "cell_type": "markdown",
   "metadata": {},
   "source": [
    "Note the assignment operator ```=```(equals), is different from the logical comparison operator ```==``` (equivalent to)."
   ]
  },
  {
   "cell_type": "markdown",
   "metadata": {},
   "source": [
    "```python\n",
    ">>> a == 2\n",
    "True\n",
    "```"
   ]
  },
  {
   "cell_type": "markdown",
   "metadata": {},
   "source": [
    "Variable names in Python must conform to the following rules:\n",
    "\n",
    " * variable names must start with a letter\n",
    " * variable names can only contain letters, numbers, and the underscore character ```_```\n",
    " * variable names can not contain spaces\n",
    " * variable names can not include punctuation\n",
    " * variable names are not enclosed in quotes or brackets\n"
   ]
  },
  {
   "cell_type": "markdown",
   "metadata": {},
   "source": [
    "The following code lines show valid variable names:"
   ]
  },
  {
   "cell_type": "markdown",
   "metadata": {},
   "source": [
    "```text\n",
    "constant = 4\n",
    "\n",
    "new_variable = 'var'\n",
    "\n",
    "my2rules = ['rule1','rule2']\n",
    "\n",
    "SQUARES = 4\n",
    "```"
   ]
  },
  {
   "cell_type": "markdown",
   "metadata": {},
   "source": [
    "The following code lines show invalid variable names:"
   ]
  },
  {
   "cell_type": "markdown",
   "metadata": {},
   "source": [
    "```text\n",
    "a constant = 4\n",
    "\n",
    "3newVariables = [1, 2, 3]\n",
    "\n",
    "&sum = 4 + 4\n",
    "```"
   ]
  },
  {
   "cell_type": "markdown",
   "metadata": {},
   "source": [
    "Let's solve the problem below at the Python REPL using variables.\n",
    "\n",
    "#### Problem\n",
    "\n",
    "The Arrhenius relationship states:\n",
    "\n",
    "$$ n = n_{v}e^{-Q_v/(RT)} $$\n",
    "\n",
    "In a system where $n_v = 2.0 \\times 10^{-3}$, $Q_v = 5$, $R=3.18$, and $T=293$, calculate $n$.\n",
    "\n",
    "#### Solution\n",
    "\n",
    "Use variables to assign a value to each one of the constants in the problem and calculate $n$.\n",
    "\n",
    "```python\n",
    ">>> nv = 2.0e-3\n",
    ">>> Qv = 5\n",
    ">>> R = 3.18\n",
    ">>> T = 293\n",
    ">>> from math import exp\n",
    ">>> n = nv*exp(-1*Qv/(R*T))\n",
    ">>> n\n",
    "0.0019892961379660424\n",
    "```\n"
   ]
  }
 ],
 "metadata": {
  "celltoolbar": "Edit Metadata",
  "kernelspec": {
   "display_name": "Python 3",
   "language": "python",
   "name": "python3"
  },
  "language_info": {
   "codemirror_mode": {
    "name": "ipython",
    "version": 3
   },
   "file_extension": ".py",
   "mimetype": "text/x-python",
   "name": "python",
   "nbconvert_exporter": "python",
   "pygments_lexer": "ipython3",
   "version": "3.8.3"
  }
 },
 "nbformat": 4,
 "nbformat_minor": 2
}
