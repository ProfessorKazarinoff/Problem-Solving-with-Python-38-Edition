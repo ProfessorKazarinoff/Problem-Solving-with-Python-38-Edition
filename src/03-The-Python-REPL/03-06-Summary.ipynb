{
 "cells": [
  {
   "cell_type": "markdown",
   "metadata": {
    "latex": {
     "before_cell": "newpage"
    }
   },
   "source": [
    "## Summary"
   ]
  },
  {
   "cell_type": "markdown",
   "metadata": {},
   "source": [
    "In this chapter, you learned how to use the Python REPL, also called the Python prompt, to solve problems. You learned how to do arithmetic, powers and logarithms, trigonometry and save values to variables. Operations on strings were introduced including concatenation and comparison. In the last section of the chapter, Python's ```print()``` function was introduced."
   ]
  },
  {
   "cell_type": "markdown",
   "metadata": {},
   "source": [
    "### Key Terms and Concepts"
   ]
  },
  {
   "cell_type": "markdown",
   "metadata": {
    "latex": {
     "environment": "key_terms"
    }
   },
   "source": [
    "REPL\n",
    "\n",
    "Python REPL\n",
    "\n",
    "Python Prompt\n",
    "\n",
    "prompt\n",
    "\n",
    "Python Interpreter\n",
    "\n",
    "interpreter\n",
    "\n",
    "operator\n",
    "\n",
    "mathematical operator\n",
    "\n",
    "import\n",
    "\n",
    "module\n",
    "\n",
    "Python Standard Library\n",
    "\n",
    "Standard Library\n",
    "\n",
    "syntax\n",
    "\n",
    "functions\n",
    "\n",
    "command line\n",
    "\n",
    "error\n",
    "\n",
    "variable\n",
    "\n",
    "assignment operator\n",
    "\n",
    "comparison operator\n",
    "\n",
    "concatenate\n",
    "\n",
    "equivalent"
   ]
  },
  {
   "cell_type": "markdown",
   "metadata": {},
   "source": [
    "### Summary of Python Functions and Commands\n",
    "\n",
    "Below is a summary of the functions and operators used in this chapter:\n",
    "\n",
    "#### Arithmetic\n",
    "\n",
    "| Arithmetic Operator | Description |\n",
    "| --- | --- |\n",
    "| ```+``` | addition |\n",
    "| ```-``` | subtraction |\n",
    "| ```*``` | multiplication |\n",
    "| ```/``` | division |\n",
    "| ```**``` | exponents |\n",
    "| ```_``` | answer in memory |\n",
    "\n",
    "#### Trigonometry\n",
    "\n",
    "| Trig Function | Description |\n",
    "| --- | ---|\n",
    "| ```from math import *``` | |\n",
    "| ```sin``` | sine of an angle in radians |\n",
    "| ```cos``` | cosine of an angle in radians |\n",
    "| ```tan``` | tangent of an angle in radians |\n",
    "| ```pi``` | mathematical constant $\\pi$ |\n",
    "| ```degrees``` | convert radians to degrees |\n",
    "| ```radians``` | convert degrees to radians |\n",
    "| ```asin``` |    inverse sine |\n",
    "| ```acos``` |    inverse cosine |\n",
    "| ```atan``` |   inverse tangent  |\n",
    "\n",
    "#### Logarithms and Exponents\n",
    "\n",
    "| Logarithms and Exponent Function | Description |\n",
    "| --- | ---|\n",
    "| ```from math import *``` | |\n",
    "| ```log``` |  log base e, natural log | \n",
    "| ```log10``` |  log base 10 | \n",
    "| ```exp``` |  $e^{power}$ | \n",
    "|  ```e``` |  mathematical constant $e$ | \n",
    "|  ```pow(x,y)``` |  x raised to the y power | \n",
    "|  ```sqrt``` |  square root | \n",
    "\n",
    "#### Statistics\n",
    "\n",
    "| Statistics Function | Description |\n",
    "| --- | ---|\n",
    "| ```from statistics import *``` | |\n",
    "| ```mean``` | mean (average) |\n",
    "| ```median``` | median (middle value) |\n",
    "| ```mode``` | mode (most often) |\n",
    "| ```stdev``` | standard deviation of a sample |\n",
    "| ```pstdev``` | standard deviation of a population |\n"
   ]
  }
 ],
 "metadata": {
  "celltoolbar": "Edit Metadata",
  "kernelspec": {
   "display_name": "Python 3",
   "language": "python",
   "name": "python3"
  },
  "language_info": {
   "codemirror_mode": {
    "name": "ipython",
    "version": 3
   },
   "file_extension": ".py",
   "mimetype": "text/x-python",
   "name": "python",
   "nbconvert_exporter": "python",
   "pygments_lexer": "ipython3",
   "version": "3.8.3"
  }
 },
 "nbformat": 4,
 "nbformat_minor": 2
}
