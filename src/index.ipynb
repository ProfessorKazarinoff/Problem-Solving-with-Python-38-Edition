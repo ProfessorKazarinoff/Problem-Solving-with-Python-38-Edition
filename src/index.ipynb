{
 "cells": [
  {
   "cell_type": "markdown",
   "metadata": {},
   "source": [
    "# Problem Solving with Python 3.8 Edition\n",
    "\n",
    "by Peter D. Kazarinoff, PhD"
   ]
  },
  {
   "cell_type": "markdown",
   "metadata": {},
   "source": [
    "---"
   ]
  },
  {
   "cell_type": "markdown",
   "metadata": {},
   "source": [
    "## Table of Contents\n",
    "\n",
    "### Preface\n",
    "\n",
    "### Orientation\n",
    "\n",
    "### Jupyter Notebooks\n",
    "\n",
    "### The Python REPL\n",
    "\n",
    "### Data Types and Variables\n",
    "\n",
    "### NumPy and Arrays\n",
    "\n",
    "### Plotting with Matplotlib\n",
    "\n",
    "### Functions and Modules\n",
    "\n",
    "### If Else Try Except\n",
    "\n",
    "### Loops\n",
    "\n",
    "### Symbolic Math\n",
    "\n",
    "### Python and External Hardware\n",
    "\n",
    "### MicroPython\n",
    "\n",
    "### Appendix"
   ]
  }
 ],
 "metadata": {
  "kernelspec": {
   "display_name": "Python 3",
   "language": "python",
   "name": "python3"
  },
  "language_info": {
   "codemirror_mode": {
    "name": "ipython",
    "version": 3
   },
   "file_extension": ".py",
   "mimetype": "text/x-python",
   "name": "python",
   "nbconvert_exporter": "python",
   "pygments_lexer": "ipython3",
   "version": "3.8.3"
  }
 },
 "nbformat": 4,
 "nbformat_minor": 4
}
